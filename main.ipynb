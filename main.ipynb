{
 "cells": [
  {
   "cell_type": "code",
   "execution_count": 40,
   "metadata": {},
   "outputs": [],
   "source": [
    "import library as lib # Library for cleaning up text data and better evaluation of Keras models\n",
    "import visualisation as viz # Library for model visualisation\n",
    "\n",
    "# Default python libraries\n",
    "import string \n",
    "import pickle\n",
    "from collections import Counter\n",
    "\n",
    "# Data Science Staples\n",
    "import pandas as pd\n",
    "import numpy as np\n",
    "\n",
    "# NLP Libraries\n",
    "from nltk.tokenize import casual_tokenize\n",
    "from nltk.stem.porter import PorterStemmer\n",
    "from vaderSentiment.vaderSentiment import SentimentIntensityAnalyzer\n",
    "\n",
    "# Sklearn libraries\n",
    "from sklearn.model_selection import train_test_split\n",
    "from sklearn.utils import resample, shuffle\n",
    "from sklearn.preprocessing import LabelEncoder\n",
    "from sklearn.metrics import roc_curve, roc_auc_score\n",
    "\n",
    "# Keras libraries\n",
    "from keras import layers\n",
    "from keras import optimizers\n",
    "from keras import models\n",
    "from keras import losses\n",
    "from keras import metrics\n",
    "from keras.utils.np_utils import to_categorical\n",
    "from keras.preprocessing.text import Tokenizer\n",
    "from keras.preprocessing.sequence import pad_sequences\n",
    "from keras.utils.np_utils import to_categorical\n",
    "from keras import backend as K\n",
    "\n",
    "# Visualisation libraries\n",
    "import seaborn as sns\n",
    "import matplotlib.pyplot as plt\n",
    "sns.set()"
   ]
  },
  {
   "cell_type": "code",
   "execution_count": 2,
   "metadata": {},
   "outputs": [],
   "source": [
    "#Jupyter magics\n",
    "%matplotlib inline\n",
    "%load_ext autoreload\n",
    "%autoreload 2"
   ]
  },
  {
   "cell_type": "markdown",
   "metadata": {},
   "source": [
    "## The Goal"
   ]
  },
  {
   "cell_type": "markdown",
   "metadata": {},
   "source": [
    "For this project I have used a Data Set collected for use in a [Stanford paper](https://arxiv.org/abs/1303.4402) on tracking the development of user expertise in Amazon Reviews. This exact dataset is most easily downloadable at [here.](https://www.kaggle.com/snap/amazon-fine-food-reviews) The dataset contains over half a million reviews, and include the actual text data, the review score as well as user and product ids and helpfulness scores. The data is collected over the space of 10 years, and is particularly good quality because it was deliberately collected to contain multiple reviews by the same reviewers. A big problem with Amazon review sets is that they often contain meaningless reviews from throw away bot accounts. The reviews are all about foodstuffs\n",
    "\n",
    "In this document I'm going to be using a 1d Convolutional Neural Network (CNN) and my own trainable embeddings for which I will explain the motivation closer to implementation. I will use the review scores out of five as class labels and build a model which uses the textual data as a means to predict these classes. I will then use this to predict unseen data."
   ]
  },
  {
   "cell_type": "markdown",
   "metadata": {},
   "source": [
    "## The Data"
   ]
  },
  {
   "cell_type": "code",
   "execution_count": 47,
   "metadata": {},
   "outputs": [],
   "source": [
    "df = pd.read_csv('Reviews.csv')"
   ]
  },
  {
   "cell_type": "code",
   "execution_count": 48,
   "metadata": {},
   "outputs": [
    {
     "data": {
      "text/html": [
       "<div>\n",
       "<style scoped>\n",
       "    .dataframe tbody tr th:only-of-type {\n",
       "        vertical-align: middle;\n",
       "    }\n",
       "\n",
       "    .dataframe tbody tr th {\n",
       "        vertical-align: top;\n",
       "    }\n",
       "\n",
       "    .dataframe thead th {\n",
       "        text-align: right;\n",
       "    }\n",
       "</style>\n",
       "<table border=\"1\" class=\"dataframe\">\n",
       "  <thead>\n",
       "    <tr style=\"text-align: right;\">\n",
       "      <th></th>\n",
       "      <th>Id</th>\n",
       "      <th>ProductId</th>\n",
       "      <th>UserId</th>\n",
       "      <th>ProfileName</th>\n",
       "      <th>HelpfulnessNumerator</th>\n",
       "      <th>HelpfulnessDenominator</th>\n",
       "      <th>Score</th>\n",
       "      <th>Time</th>\n",
       "      <th>Summary</th>\n",
       "      <th>Text</th>\n",
       "    </tr>\n",
       "  </thead>\n",
       "  <tbody>\n",
       "    <tr>\n",
       "      <th>0</th>\n",
       "      <td>1</td>\n",
       "      <td>B001E4KFG0</td>\n",
       "      <td>A3SGXH7AUHU8GW</td>\n",
       "      <td>delmartian</td>\n",
       "      <td>1</td>\n",
       "      <td>1</td>\n",
       "      <td>5</td>\n",
       "      <td>1303862400</td>\n",
       "      <td>Good Quality Dog Food</td>\n",
       "      <td>I have bought several of the Vitality canned d...</td>\n",
       "    </tr>\n",
       "    <tr>\n",
       "      <th>1</th>\n",
       "      <td>2</td>\n",
       "      <td>B00813GRG4</td>\n",
       "      <td>A1D87F6ZCVE5NK</td>\n",
       "      <td>dll pa</td>\n",
       "      <td>0</td>\n",
       "      <td>0</td>\n",
       "      <td>1</td>\n",
       "      <td>1346976000</td>\n",
       "      <td>Not as Advertised</td>\n",
       "      <td>Product arrived labeled as Jumbo Salted Peanut...</td>\n",
       "    </tr>\n",
       "    <tr>\n",
       "      <th>2</th>\n",
       "      <td>3</td>\n",
       "      <td>B000LQOCH0</td>\n",
       "      <td>ABXLMWJIXXAIN</td>\n",
       "      <td>Natalia Corres \"Natalia Corres\"</td>\n",
       "      <td>1</td>\n",
       "      <td>1</td>\n",
       "      <td>4</td>\n",
       "      <td>1219017600</td>\n",
       "      <td>\"Delight\" says it all</td>\n",
       "      <td>This is a confection that has been around a fe...</td>\n",
       "    </tr>\n",
       "    <tr>\n",
       "      <th>3</th>\n",
       "      <td>4</td>\n",
       "      <td>B000UA0QIQ</td>\n",
       "      <td>A395BORC6FGVXV</td>\n",
       "      <td>Karl</td>\n",
       "      <td>3</td>\n",
       "      <td>3</td>\n",
       "      <td>2</td>\n",
       "      <td>1307923200</td>\n",
       "      <td>Cough Medicine</td>\n",
       "      <td>If you are looking for the secret ingredient i...</td>\n",
       "    </tr>\n",
       "    <tr>\n",
       "      <th>4</th>\n",
       "      <td>5</td>\n",
       "      <td>B006K2ZZ7K</td>\n",
       "      <td>A1UQRSCLF8GW1T</td>\n",
       "      <td>Michael D. Bigham \"M. Wassir\"</td>\n",
       "      <td>0</td>\n",
       "      <td>0</td>\n",
       "      <td>5</td>\n",
       "      <td>1350777600</td>\n",
       "      <td>Great taffy</td>\n",
       "      <td>Great taffy at a great price.  There was a wid...</td>\n",
       "    </tr>\n",
       "  </tbody>\n",
       "</table>\n",
       "</div>"
      ],
      "text/plain": [
       "   Id   ProductId          UserId                      ProfileName  \\\n",
       "0   1  B001E4KFG0  A3SGXH7AUHU8GW                       delmartian   \n",
       "1   2  B00813GRG4  A1D87F6ZCVE5NK                           dll pa   \n",
       "2   3  B000LQOCH0   ABXLMWJIXXAIN  Natalia Corres \"Natalia Corres\"   \n",
       "3   4  B000UA0QIQ  A395BORC6FGVXV                             Karl   \n",
       "4   5  B006K2ZZ7K  A1UQRSCLF8GW1T    Michael D. Bigham \"M. Wassir\"   \n",
       "\n",
       "   HelpfulnessNumerator  HelpfulnessDenominator  Score        Time  \\\n",
       "0                     1                       1      5  1303862400   \n",
       "1                     0                       0      1  1346976000   \n",
       "2                     1                       1      4  1219017600   \n",
       "3                     3                       3      2  1307923200   \n",
       "4                     0                       0      5  1350777600   \n",
       "\n",
       "                 Summary                                               Text  \n",
       "0  Good Quality Dog Food  I have bought several of the Vitality canned d...  \n",
       "1      Not as Advertised  Product arrived labeled as Jumbo Salted Peanut...  \n",
       "2  \"Delight\" says it all  This is a confection that has been around a fe...  \n",
       "3         Cough Medicine  If you are looking for the secret ingredient i...  \n",
       "4            Great taffy  Great taffy at a great price.  There was a wid...  "
      ]
     },
     "execution_count": 48,
     "metadata": {},
     "output_type": "execute_result"
    }
   ],
   "source": [
    "df.head()"
   ]
  },
  {
   "cell_type": "code",
   "execution_count": 49,
   "metadata": {},
   "outputs": [
    {
     "data": {
      "text/html": [
       "<div>\n",
       "<style scoped>\n",
       "    .dataframe tbody tr th:only-of-type {\n",
       "        vertical-align: middle;\n",
       "    }\n",
       "\n",
       "    .dataframe tbody tr th {\n",
       "        vertical-align: top;\n",
       "    }\n",
       "\n",
       "    .dataframe thead th {\n",
       "        text-align: right;\n",
       "    }\n",
       "</style>\n",
       "<table border=\"1\" class=\"dataframe\">\n",
       "  <thead>\n",
       "    <tr style=\"text-align: right;\">\n",
       "      <th></th>\n",
       "      <th>Id</th>\n",
       "      <th>HelpfulnessNumerator</th>\n",
       "      <th>HelpfulnessDenominator</th>\n",
       "      <th>Score</th>\n",
       "      <th>Time</th>\n",
       "    </tr>\n",
       "  </thead>\n",
       "  <tbody>\n",
       "    <tr>\n",
       "      <th>count</th>\n",
       "      <td>568454.000000</td>\n",
       "      <td>568454.000000</td>\n",
       "      <td>568454.00000</td>\n",
       "      <td>568454.000000</td>\n",
       "      <td>5.684540e+05</td>\n",
       "    </tr>\n",
       "    <tr>\n",
       "      <th>mean</th>\n",
       "      <td>284227.500000</td>\n",
       "      <td>1.743817</td>\n",
       "      <td>2.22881</td>\n",
       "      <td>4.183199</td>\n",
       "      <td>1.296257e+09</td>\n",
       "    </tr>\n",
       "    <tr>\n",
       "      <th>std</th>\n",
       "      <td>164098.679298</td>\n",
       "      <td>7.636513</td>\n",
       "      <td>8.28974</td>\n",
       "      <td>1.310436</td>\n",
       "      <td>4.804331e+07</td>\n",
       "    </tr>\n",
       "    <tr>\n",
       "      <th>min</th>\n",
       "      <td>1.000000</td>\n",
       "      <td>0.000000</td>\n",
       "      <td>0.00000</td>\n",
       "      <td>1.000000</td>\n",
       "      <td>9.393408e+08</td>\n",
       "    </tr>\n",
       "    <tr>\n",
       "      <th>25%</th>\n",
       "      <td>142114.250000</td>\n",
       "      <td>0.000000</td>\n",
       "      <td>0.00000</td>\n",
       "      <td>4.000000</td>\n",
       "      <td>1.271290e+09</td>\n",
       "    </tr>\n",
       "    <tr>\n",
       "      <th>50%</th>\n",
       "      <td>284227.500000</td>\n",
       "      <td>0.000000</td>\n",
       "      <td>1.00000</td>\n",
       "      <td>5.000000</td>\n",
       "      <td>1.311120e+09</td>\n",
       "    </tr>\n",
       "    <tr>\n",
       "      <th>75%</th>\n",
       "      <td>426340.750000</td>\n",
       "      <td>2.000000</td>\n",
       "      <td>2.00000</td>\n",
       "      <td>5.000000</td>\n",
       "      <td>1.332720e+09</td>\n",
       "    </tr>\n",
       "    <tr>\n",
       "      <th>max</th>\n",
       "      <td>568454.000000</td>\n",
       "      <td>866.000000</td>\n",
       "      <td>923.00000</td>\n",
       "      <td>5.000000</td>\n",
       "      <td>1.351210e+09</td>\n",
       "    </tr>\n",
       "  </tbody>\n",
       "</table>\n",
       "</div>"
      ],
      "text/plain": [
       "                  Id  HelpfulnessNumerator  HelpfulnessDenominator  \\\n",
       "count  568454.000000         568454.000000            568454.00000   \n",
       "mean   284227.500000              1.743817                 2.22881   \n",
       "std    164098.679298              7.636513                 8.28974   \n",
       "min         1.000000              0.000000                 0.00000   \n",
       "25%    142114.250000              0.000000                 0.00000   \n",
       "50%    284227.500000              0.000000                 1.00000   \n",
       "75%    426340.750000              2.000000                 2.00000   \n",
       "max    568454.000000            866.000000               923.00000   \n",
       "\n",
       "               Score          Time  \n",
       "count  568454.000000  5.684540e+05  \n",
       "mean        4.183199  1.296257e+09  \n",
       "std         1.310436  4.804331e+07  \n",
       "min         1.000000  9.393408e+08  \n",
       "25%         4.000000  1.271290e+09  \n",
       "50%         5.000000  1.311120e+09  \n",
       "75%         5.000000  1.332720e+09  \n",
       "max         5.000000  1.351210e+09  "
      ]
     },
     "execution_count": 49,
     "metadata": {},
     "output_type": "execute_result"
    }
   ],
   "source": [
    "df.describe()"
   ]
  },
  {
   "cell_type": "markdown",
   "metadata": {},
   "source": [
    "Already this describe should be ringing alarm bells. Our median score is a five star review. So let's visualise the distribution of our reviews."
   ]
  },
  {
   "cell_type": "code",
   "execution_count": 52,
   "metadata": {},
   "outputs": [
    {
     "data": {
      "image/png": "[encoded data removed]",
      "text/plain": [
       "<Figure size 432x288 with 1 Axes>"
      ]
     },
     "metadata": {
      "needs_background": "light"
     },
     "output_type": "display_data"
    }
   ],
   "source": [
    "sns.distplot(df.Score, bins=5, kde=False);\n",
    "plt.xticks(range(1,6));"
   ]
  },
  {
   "cell_type": "markdown",
   "metadata": {},
   "source": [
    "I have seen a number of attempts at modelling this dataset that haven't addressed this class imbalance and their models end up with very high accuracy scores. The problem with this is that any learning classifier will just classify everything as a five star review and retain accuracy. Our dataset is big enough that we can afford to **downsample** it. We could in theory oversample our dataset, but oversampling is not preferable for textual data; even if we produce vector representations for the textual data, oversampling is unlikely to capture the meaning behind reviews. \n",
    "\n",
    "We will be using a function from the library file to downsample to majority class in line with the mean of the rest of the classes."
   ]
  },
  {
   "cell_type": "code",
   "execution_count": 4,
   "metadata": {},
   "outputs": [],
   "source": [
    "balanced_df = lib.resample_majority(df, 'Score', 5)"
   ]
  },
  {
   "cell_type": "code",
   "execution_count": 53,
   "metadata": {},
   "outputs": [
    {
     "data": {
      "image/png": "[encoded data removed]",
      "text/plain": [
       "<Figure size 432x288 with 1 Axes>"
      ]
     },
     "metadata": {
      "needs_background": "light"
     },
     "output_type": "display_data"
    }
   ],
   "source": [
    "sns.distplot(balanced_df.Score, bins=5, kde=False);\n",
    "plt.xticks(range(1,6));"
   ]
  },
  {
   "cell_type": "markdown",
   "metadata": {},
   "source": [
    "## Preparing Textual Data"
   ]
  },
  {
   "cell_type": "markdown",
   "metadata": {},
   "source": [
    "In order to squeeze the most possible value out of our text data we want to start pruning and condensing this textual information down. We will be removing stopwords, words like 'the', 'a', 'off'. I have removed certain canonical stopwords like 'not' and 'but'. This is because when our CNN is trying to pick out features, it is important that it is able to recognize the quick changes of sentiment denoted by these words. We will also be removing punctuation and numerical features, and then creating vectors based on the indices of the word within our vocabulary."
   ]
  },
  {
   "cell_type": "code",
   "execution_count": 55,
   "metadata": {},
   "outputs": [],
   "source": [
    "# Some variables that will be used throughout the modeling process\n",
    "num_words = 20000 # The max number of words in our vocabulary\n",
    "epochs = 10  \n",
    "batch_size = 512  \n",
    "sequence_len = 200  # Maximum number of words in a sequence\n",
    "embedding_dimensions = 200  # Number of dimensions of the trainable embedding layer"
   ]
  },
  {
   "cell_type": "code",
   "execution_count": 56,
   "metadata": {},
   "outputs": [],
   "source": [
    "balanced_df.Text = balanced_df.Text.apply(lib.remove_stopwords, join=True)"
   ]
  },
  {
   "cell_type": "code",
   "execution_count": 57,
   "metadata": {},
   "outputs": [
    {
     "data": {
      "text/plain": [
       "0    I bought couple packs decaf expiration date Ma...\n",
       "1    I love cat food! I currently four cats, two fo...\n",
       "2    I've tried multiple foods, different times, an...\n",
       "3    My dog likes time. The dogs I tried not overly...\n",
       "4    I not impressed garlic powder. The garlic powd...\n",
       "Name: Text, dtype: object"
      ]
     },
     "execution_count": 57,
     "metadata": {},
     "output_type": "execute_result"
    }
   ],
   "source": [
    "balanced_df.Text.head()"
   ]
  },
  {
   "cell_type": "code",
   "execution_count": 58,
   "metadata": {},
   "outputs": [],
   "source": [
    "X_train, X_test, y_train, y_test = train_test_split(balanced_df.Text, balanced_df.Score, test_size=0.2, random_state=42)"
   ]
  },
  {
   "cell_type": "code",
   "execution_count": 59,
   "metadata": {},
   "outputs": [],
   "source": [
    "tk = Tokenizer(num_words=num_words, # The 20000 most important words for our vocabulary\n",
    "               filters='!\"#$%&()*+,-./:;<=>?@[\\]^_`{\"}~\\t\\n', # Regex that will prune off non alphabetical characters\n",
    "               lower=True, # Lowercase the text data for consistency\n",
    "               split=\" \")\n",
    "tk.fit_on_texts(X_train) # Fit on our training set\n",
    "X_train_seq = tk.texts_to_sequences(X_train) # Indexed sequences based on fitted tokenizer\n",
    "X_test_seq = tk.texts_to_sequences(X_test)"
   ]
  },
  {
   "cell_type": "code",
   "execution_count": 61,
   "metadata": {},
   "outputs": [],
   "source": [
    "# Pickling the tokenizer for use in our app later.\n",
    "pickle.dump(tk, open( \"tk_20k_vocab_200_words.pkl\", \"wb\" ))"
   ]
  },
  {
   "cell_type": "code",
   "execution_count": 62,
   "metadata": {},
   "outputs": [
    {
     "data": {
      "text/plain": [
       "[25,\n",
       " 371,\n",
       " 23,\n",
       " 1188,\n",
       " 5866,\n",
       " 1,\n",
       " 77,\n",
       " 4406,\n",
       " 4912,\n",
       " 6,\n",
       " 303,\n",
       " 5266,\n",
       " 3639,\n",
       " 111,\n",
       " 874,\n",
       " 1188,\n",
       " 343,\n",
       " 58,\n",
       " 3,\n",
       " 29,\n",
       " 215,\n",
       " 262,\n",
       " 38,\n",
       " 76,\n",
       " 159,\n",
       " 6413,\n",
       " 3148,\n",
       " 303,\n",
       " 134,\n",
       " 221,\n",
       " 8254,\n",
       " 95,\n",
       " 303,\n",
       " 185,\n",
       " 215,\n",
       " 159,\n",
       " 1310,\n",
       " 25,\n",
       " 371,\n",
       " 299,\n",
       " 665]"
      ]
     },
     "execution_count": 62,
     "metadata": {},
     "output_type": "execute_result"
    }
   ],
   "source": [
    "X_train_seq[7] # Having a look at an example sequence"
   ]
  },
  {
   "cell_type": "code",
   "execution_count": 63,
   "metadata": {},
   "outputs": [],
   "source": [
    "X_train_seq_pad = pad_sequences(X_train_seq, maxlen=sequence_len) # Padding the sequences so that they are all the same length\n",
    "X_test_seq_pad = pad_sequences(X_test_seq, maxlen=sequence_len)"
   ]
  },
  {
   "cell_type": "code",
   "execution_count": 67,
   "metadata": {},
   "outputs": [
    {
     "data": {
      "text/plain": [
       "array([    0,     0,     0,     0,     0,     0,     0,     0,     0,\n",
       "           0,     0,     0,     0,     0,     0,     0,     0,     0,\n",
       "           0,     0,     0,     0,     0,     0,     0,     0,     0,\n",
       "           0,     0,     0,     0,     0,     0,     0,     0,     0,\n",
       "           0,     0,     0,     0,     0,     0,     0,     0,     0,\n",
       "           0,     0,     0,     0,     0,     0,     0,     0,     0,\n",
       "           0,     0,     0,     0,     0,     0,     0,     0,     0,\n",
       "           0,     0,     0,     0,     0,     0,     0,     0,     0,\n",
       "           0,     0,     0,     0,     0,     0,     0,     0,     0,\n",
       "           0,     0,     0,     1,   237,   117, 15317,  1317,  6046,\n",
       "        2193,    25,  2401,  5147,    77,   869,   608,     4,  9363,\n",
       "        2356,   526,  1986,  1208,   774,   205,   258,    77,   689,\n",
       "        4140,  5805,  1496,   562,   311,    44,  3815,    16,   770,\n",
       "         296,  2124,     4,    14,     3,    44,     4,     2,     2,\n",
       "           1,    77,   802,   563,  3019,    25, 15317,   155,   156,\n",
       "        1986,  1208,   257,  5144, 12173,   296,   517,   168,  2880,\n",
       "        2383,  1475,    25,  1317,  2193,   150,  2220,    40,     2,\n",
       "           2,  5023, 11171,     1,   579,   585,   982,   906,    16,\n",
       "        5581,  1916,  1496,   424,   504,  2136,   156,   385,   748,\n",
       "          23,     4,     1,   106,   787,   117,  5726,   208,    16,\n",
       "           5,    12,     2,     2,    38,  2221,     4,     1,   409,\n",
       "         125,     9,     4,  3024,   214,   171,   694,   140,  1416,\n",
       "         273,   155], dtype=int32)"
      ]
     },
     "execution_count": 67,
     "metadata": {},
     "output_type": "execute_result"
    }
   ],
   "source": [
    "X_train_emb[0]"
   ]
  },
  {
   "cell_type": "code",
   "execution_count": 64,
   "metadata": {},
   "outputs": [],
   "source": [
    "le = LabelEncoder() # Transforming our score classes into five one hot vectors\n",
    "y_train_le = le.fit_transform(y_train)\n",
    "y_test_le = le.transform(y_test)\n",
    "y_train_oh = to_categorical(y_train_le)\n",
    "y_test_oh = to_categorical(y_test_le)"
   ]
  },
  {
   "cell_type": "code",
   "execution_count": 65,
   "metadata": {},
   "outputs": [],
   "source": [
    "X_train_emb, X_valid_emb, y_train_emb, y_valid_emb = train_test_split(X_train_seq_pad, y_train_oh, test_size=0.1, random_state=37)"
   ]
  },
  {
   "cell_type": "code",
   "execution_count": 66,
   "metadata": {},
   "outputs": [
    {
     "data": {
      "text/plain": [
       "array([[0., 0., 0., 0., 1.],\n",
       "       [0., 0., 0., 0., 1.],\n",
       "       [0., 0., 0., 1., 0.],\n",
       "       ...,\n",
       "       [0., 0., 0., 1., 0.],\n",
       "       [0., 0., 0., 1., 0.],\n",
       "       [0., 1., 0., 0., 0.]], dtype=float32)"
      ]
     },
     "execution_count": 66,
     "metadata": {},
     "output_type": "execute_result"
    }
   ],
   "source": [
    "y_train_emb"
   ]
  },
  {
   "cell_type": "markdown",
   "metadata": {},
   "source": [
    "## Modelling"
   ]
  },
  {
   "cell_type": "markdown",
   "metadata": {},
   "source": [
    "When it comes to text classification neural networks, the usual culprites are Recurrent Neural Networks (RNNs) and Long Short Term Memory models (LSTM). However I was interested to try 1d CNNs. CNNs are most popularly used for image and video classification and generation problems. However their 1d variants can pick up on series of adjacent words and start to account for their meaning, a little like automatically producing ngrams. \n",
    "\n",
    "I have also included a layer of empty word embeddings. As the model learns it will tweak these word embeddings so that not just each sequence but each word itself will be weighted."
   ]
  },
  {
   "cell_type": "code",
   "execution_count": 68,
   "metadata": {},
   "outputs": [
    {
     "name": "stdout",
     "output_type": "stream",
     "text": [
      "Train on 184798 samples, validate on 20534 samples\n",
      "Epoch 1/10\n",
      "184798/184798 [==============================] - 113s 612us/step - loss: 1.2356 - categorical_accuracy: 0.4825 - f1_m: 0.3224 - precision_m: 0.5979 - recall_m: 0.2338 - val_loss: 1.0132 - val_categorical_accuracy: 0.5824 - val_f1_m: 0.5099 - val_precision_m: 0.7161 - val_recall_m: 0.3962\n",
      "Epoch 2/10\n",
      "184798/184798 [==============================] - 118s 636us/step - loss: 0.9843 - categorical_accuracy: 0.5981 - f1_m: 0.5425 - precision_m: 0.7093 - recall_m: 0.4397 - val_loss: 0.9291 - val_categorical_accuracy: 0.6272 - val_f1_m: 0.5735 - val_precision_m: 0.7304 - val_recall_m: 0.4722\n",
      "Epoch 3/10\n",
      "184798/184798 [==============================] - 133s 718us/step - loss: 0.8508 - categorical_accuracy: 0.6633 - f1_m: 0.6280 - precision_m: 0.7511 - recall_m: 0.5398 - val_loss: 0.8892 - val_categorical_accuracy: 0.6467 - val_f1_m: 0.6194 - val_precision_m: 0.7354 - val_recall_m: 0.5352\n",
      "Epoch 4/10\n",
      "184798/184798 [==============================] - 111s 598us/step - loss: 0.7397 - categorical_accuracy: 0.7129 - f1_m: 0.6938 - precision_m: 0.7828 - recall_m: 0.6232 - val_loss: 0.8804 - val_categorical_accuracy: 0.6554 - val_f1_m: 0.6412 - val_precision_m: 0.7270 - val_recall_m: 0.5736\n",
      "Epoch 5/10\n",
      "184798/184798 [==============================] - 101s 546us/step - loss: 0.6466 - categorical_accuracy: 0.7539 - f1_m: 0.7432 - precision_m: 0.8093 - recall_m: 0.6871 - val_loss: 0.8808 - val_categorical_accuracy: 0.6652 - val_f1_m: 0.6576 - val_precision_m: 0.7241 - val_recall_m: 0.6024\n",
      "Epoch 6/10\n",
      "184798/184798 [==============================] - 110s 595us/step - loss: 0.5697 - categorical_accuracy: 0.7858 - f1_m: 0.7796 - precision_m: 0.8308 - recall_m: 0.7345 - val_loss: 0.9119 - val_categorical_accuracy: 0.6624 - val_f1_m: 0.6605 - val_precision_m: 0.7175 - val_recall_m: 0.6119\n",
      "Epoch 7/10\n",
      "184798/184798 [==============================] - 105s 566us/step - loss: 0.5074 - categorical_accuracy: 0.8105 - f1_m: 0.8073 - precision_m: 0.8487 - recall_m: 0.7698 - val_loss: 0.9371 - val_categorical_accuracy: 0.6618 - val_f1_m: 0.6614 - val_precision_m: 0.7086 - val_recall_m: 0.6201\n",
      "Epoch 8/10\n",
      "184798/184798 [==============================] - 102s 554us/step - loss: 0.4563 - categorical_accuracy: 0.8315 - f1_m: 0.8288 - precision_m: 0.8636 - recall_m: 0.7968 - val_loss: 0.9731 - val_categorical_accuracy: 0.6640 - val_f1_m: 0.6643 - val_precision_m: 0.7054 - val_recall_m: 0.6277\n",
      "Epoch 9/10\n",
      "184798/184798 [==============================] - 105s 570us/step - loss: 0.4136 - categorical_accuracy: 0.8461 - f1_m: 0.8452 - precision_m: 0.8745 - recall_m: 0.8179 - val_loss: 1.0052 - val_categorical_accuracy: 0.6651 - val_f1_m: 0.6660 - val_precision_m: 0.7043 - val_recall_m: 0.6318\n",
      "Epoch 10/10\n",
      "184798/184798 [==============================] - 119s 643us/step - loss: 0.3796 - categorical_accuracy: 0.8601 - f1_m: 0.8600 - precision_m: 0.8856 - recall_m: 0.8359 - val_loss: 1.0624 - val_categorical_accuracy: 0.6617 - val_f1_m: 0.6649 - val_precision_m: 0.6984 - val_recall_m: 0.6346\n"
     ]
    }
   ],
   "source": [
    "emb_model = models.Sequential()\n",
    "emb_model.add(layers.Embedding(num_words, embedding_dimensions, input_length=sequence_len))\n",
    "emb_model.add(layers.Conv1D(32,\n",
    "                            5,\n",
    "                            activation='relu',\n",
    "                            input_shape=(200,1)))\n",
    "emb_model.add(layers.GlobalMaxPooling1D())\n",
    "emb_model.add(layers.Dropout(0.2))\n",
    "emb_model.add(layers.Dense(64,activation='relu',))\n",
    "emb_model.add(layers.Dropout(0.2))\n",
    "emb_model.add(layers.Dense(5, activation='softmax'))\n",
    "emb_model.compile(optimizer='rmsprop',\n",
    "                  loss='categorical_crossentropy',\n",
    "                  metrics=[metrics.categorical_accuracy, lib.f1_m, lib.precision_m, lib.recall_m])\n",
    "emb_history = emb_model.fit(X_train_emb,\n",
    "                            y_train_emb,\n",
    "                            epochs=epochs,\n",
    "                            batch_size=batch_size,\n",
    "                            validation_data=(X_valid_emb, y_valid_emb))"
   ]
  },
  {
   "cell_type": "code",
   "execution_count": 69,
   "metadata": {},
   "outputs": [
    {
     "data": {
      "image/png": "[encoded data removed]",
      "text/plain": [
       "<Figure size 432x288 with 1 Axes>"
      ]
     },
     "metadata": {
      "needs_background": "light"
     },
     "output_type": "display_data"
    },
    {
     "data": {
      "image/png": "[encoded data removed]",
      "text/plain": [
       "<Figure size 432x288 with 1 Axes>"
      ]
     },
     "metadata": {
      "needs_background": "light"
     },
     "output_type": "display_data"
    },
    {
     "data": {
      "text/plain": [
       "(None, None)"
      ]
     },
     "execution_count": 69,
     "metadata": {},
     "output_type": "execute_result"
    }
   ],
   "source": [
    "viz.plot_accuracy(emb_history), viz.plot_loss(emb_history)"
   ]
  },
  {
   "cell_type": "code",
   "execution_count": 70,
   "metadata": {},
   "outputs": [
    {
     "name": "stdout",
     "output_type": "stream",
     "text": [
      "51333/51333 [==============================] - 9s 178us/step\n",
      "The loss score is: 1.070395362260937\n",
      "The categorical_accuracy score is: 0.6605692505836487\n",
      "The f1_m score is: 0.6625382304191589\n",
      "The precision_m score is: 0.6940155625343323\n",
      "The recall_m score is: 0.634727418422699\n"
     ]
    }
   ],
   "source": [
    "emb_scores = lib.verbose_evaluate(emb_model, X_test_seq_pad, y_test_oh)"
   ]
  },
  {
   "cell_type": "code",
   "execution_count": 71,
   "metadata": {},
   "outputs": [],
   "source": [
    "emb_model.save('conv_embedding_model_lrg.h5')"
   ]
  },
  {
   "cell_type": "markdown",
   "metadata": {},
   "source": [
    "Here I will try a slightly different model architecture for sanity and compare the two models."
   ]
  },
  {
   "cell_type": "code",
   "execution_count": 73,
   "metadata": {},
   "outputs": [
    {
     "name": "stdout",
     "output_type": "stream",
     "text": [
      "Train on 184798 samples, validate on 20534 samples\n",
      "Epoch 1/10\n",
      "184798/184798 [==============================] - 44s 241us/step - loss: 1.4051 - categorical_accuracy: 0.3977 - f1_m: 0.1452 - precision_m: 0.5028 - recall_m: 0.0909 - val_loss: 1.1560 - val_categorical_accuracy: 0.5232 - val_f1_m: 0.3424 - val_precision_m: 0.7249 - val_recall_m: 0.2243\n",
      "Epoch 2/10\n",
      "184798/184798 [==============================] - 44s 237us/step - loss: 1.1866 - categorical_accuracy: 0.5036 - f1_m: 0.3793 - precision_m: 0.6460 - recall_m: 0.2691 - val_loss: 1.0740 - val_categorical_accuracy: 0.5537 - val_f1_m: 0.4463 - val_precision_m: 0.7230 - val_recall_m: 0.3230\n",
      "Epoch 3/10\n",
      "184798/184798 [==============================] - 44s 236us/step - loss: 1.1052 - categorical_accuracy: 0.5367 - f1_m: 0.4505 - precision_m: 0.6703 - recall_m: 0.3396 - val_loss: 1.0418 - val_categorical_accuracy: 0.5694 - val_f1_m: 0.4795 - val_precision_m: 0.7202 - val_recall_m: 0.3595\n",
      "Epoch 4/10\n",
      "184798/184798 [==============================] - 44s 239us/step - loss: 1.0486 - categorical_accuracy: 0.5603 - f1_m: 0.4960 - precision_m: 0.6873 - recall_m: 0.3882 - val_loss: 1.0216 - val_categorical_accuracy: 0.5804 - val_f1_m: 0.5070 - val_precision_m: 0.7232 - val_recall_m: 0.3905\n",
      "Epoch 5/10\n",
      "184798/184798 [==============================] - 44s 236us/step - loss: 1.0053 - categorical_accuracy: 0.5802 - f1_m: 0.5272 - precision_m: 0.7010 - recall_m: 0.4227 - val_loss: 1.0123 - val_categorical_accuracy: 0.5862 - val_f1_m: 0.5190 - val_precision_m: 0.7249 - val_recall_m: 0.4043\n",
      "Epoch 6/10\n",
      "184798/184798 [==============================] - 44s 237us/step - loss: 0.9725 - categorical_accuracy: 0.5944 - f1_m: 0.5490 - precision_m: 0.7121 - recall_m: 0.4469 - val_loss: 1.0068 - val_categorical_accuracy: 0.5914 - val_f1_m: 0.5268 - val_precision_m: 0.7274 - val_recall_m: 0.4131\n",
      "Epoch 7/10\n",
      "184798/184798 [==============================] - 45s 241us/step - loss: 0.9445 - categorical_accuracy: 0.6073 - f1_m: 0.5671 - precision_m: 0.7220 - recall_m: 0.4672 - val_loss: 1.0047 - val_categorical_accuracy: 0.5945 - val_f1_m: 0.5368 - val_precision_m: 0.7193 - val_recall_m: 0.4283\n",
      "Epoch 8/10\n",
      "184798/184798 [==============================] - 45s 246us/step - loss: 0.9195 - categorical_accuracy: 0.6183 - f1_m: 0.5836 - precision_m: 0.7308 - recall_m: 0.4860 - val_loss: 1.0083 - val_categorical_accuracy: 0.5951 - val_f1_m: 0.5417 - val_precision_m: 0.7226 - val_recall_m: 0.4335\n",
      "Epoch 9/10\n",
      "184798/184798 [==============================] - 48s 262us/step - loss: 0.9022 - categorical_accuracy: 0.6266 - f1_m: 0.5947 - precision_m: 0.7376 - recall_m: 0.4984 - val_loss: 1.0054 - val_categorical_accuracy: 0.6005 - val_f1_m: 0.5496 - val_precision_m: 0.7203 - val_recall_m: 0.4445\n",
      "Epoch 10/10\n",
      "184798/184798 [==============================] - 50s 271us/step - loss: 0.8840 - categorical_accuracy: 0.6347 - f1_m: 0.6061 - precision_m: 0.7435 - recall_m: 0.5118 - val_loss: 1.0062 - val_categorical_accuracy: 0.6023 - val_f1_m: 0.5514 - val_precision_m: 0.7211 - val_recall_m: 0.4466\n"
     ]
    }
   ],
   "source": [
    "emb_adam_model = models.Sequential()\n",
    "emb_adam_model.add(layers.Embedding(num_words, 100, input_length=sequence_len)) # Small embedding dimensions\n",
    "emb_adam_model.add(layers.Conv1D(16,\n",
    "                                 5,\n",
    "                                 activation='relu',\n",
    "                                 input_shape=(200,1)))\n",
    "emb_adam_model.add(layers.GlobalMaxPooling1D())\n",
    "emb_adam_model.add(layers.Dropout(0.5)) # More dropout\n",
    "emb_adam_model.add(layers.Dense(32,activation='relu',))\n",
    "emb_adam_model.add(layers.Dropout(0.2))\n",
    "emb_adam_model.add(layers.Dense(5, activation='softmax'))\n",
    "emb_adam_model.compile(optimizer='adam', # Different optimizer\n",
    "                      loss='categorical_crossentropy',\n",
    "                      metrics=[metrics.categorical_accuracy, lib.f1_m, lib.precision_m, lib.recall_m])\n",
    "emb_adam_history = emb_adam_model.fit(X_train_emb,\n",
    "                            y_train_emb,\n",
    "                            epochs=epochs,\n",
    "                            batch_size=batch_size,\n",
    "                            validation_data=(X_valid_emb, y_valid_emb))"
   ]
  },
  {
   "cell_type": "code",
   "execution_count": 74,
   "metadata": {},
   "outputs": [
    {
     "data": {
      "image/png": "[encoded data removed]",
      "text/plain": [
       "<Figure size 432x288 with 1 Axes>"
      ]
     },
     "metadata": {
      "needs_background": "light"
     },
     "output_type": "display_data"
    },
    {
     "data": {
      "image/png": "[encoded data removed]",
      "text/plain": [
       "<Figure size 432x288 with 1 Axes>"
      ]
     },
     "metadata": {
      "needs_background": "light"
     },
     "output_type": "display_data"
    },
    {
     "data": {
      "text/plain": [
       "(None, None)"
      ]
     },
     "execution_count": 74,
     "metadata": {},
     "output_type": "execute_result"
    }
   ],
   "source": [
    "viz.plot_accuracy(emb_adam_history), viz.plot_loss(emb_adam_history)"
   ]
  },
  {
   "cell_type": "code",
   "execution_count": 75,
   "metadata": {},
   "outputs": [
    {
     "name": "stdout",
     "output_type": "stream",
     "text": [
      "51333/51333 [==============================] - 5s 88us/step\n",
      "The loss score is: 1.0114212911095974\n",
      "The categorical_accuracy score is: 0.6028285622596741\n",
      "The f1_m score is: 0.5509130954742432\n",
      "The precision_m score is: 0.7235957980155945\n",
      "The recall_m score is: 0.4479556083679199\n"
     ]
    }
   ],
   "source": [
    "emb_adam_scores = lib.verbose_evaluate(emb_adam_model, X_test_seq_pad, y_test_oh)"
   ]
  },
  {
   "cell_type": "markdown",
   "metadata": {},
   "source": [
    "### Comparison of the two models"
   ]
  },
  {
   "cell_type": "code",
   "execution_count": 76,
   "metadata": {},
   "outputs": [],
   "source": [
    "emb_scores = list(emb_scores.values())\n",
    "emb_adam_scores = list(emb_adam_scores.values())\n",
    "loss = [emb_scores[0], emb_adam_scores[0]]\n",
    "categorical_accuracy = [emb_scores[1], emb_adam_scores[1]]\n",
    "f1 = [emb_scores[2], emb_adam_scores[2]]\n",
    "precision = [emb_scores[3], emb_adam_scores[3]]\n",
    "recall = [emb_scores[4], emb_adam_scores[4]]"
   ]
  },
  {
   "cell_type": "code",
   "execution_count": 77,
   "metadata": {},
   "outputs": [
    {
     "data": {
      "image/png": "[encoded data removed]",
      "text/plain": [
       "<Figure size 432x288 with 1 Axes>"
      ]
     },
     "metadata": {
      "needs_background": "light"
     },
     "output_type": "display_data"
    }
   ],
   "source": [
    "barWidth = 0.1\n",
    "\n",
    "# Set position of bar on X axis\n",
    "r1 = np.arange(len(loss))\n",
    "r2 = [x + barWidth for x in r1]\n",
    "r3 = [x + barWidth for x in r2]\n",
    "r4 = [x + barWidth for x in r3]\n",
    "r5 = [x + barWidth for x in r4]\n",
    " \n",
    "# Make the plot\n",
    "plt.barh(r1, loss, height=barWidth, edgecolor='white', label='Loss')\n",
    "plt.barh(r2, categorical_accuracy, height=barWidth, edgecolor='white', label='Categorical Accuracy')\n",
    "plt.barh(r3, f1, height=barWidth, edgecolor='white', label='F1 Score')\n",
    "plt.barh(r4, precision, height=barWidth, edgecolor='white', label='Precision')\n",
    "plt.barh(r5, recall, height=barWidth, edgecolor='white', label='Recall')\n",
    " \n",
    "# Add xticks on the middle of the group bars\n",
    "plt.xlabel('Score', fontweight='bold')\n",
    "plt.title('Comparison of Competing Model Architectures')\n",
    "plt.yticks([r + barWidth for r in range(len(loss))], ['Embedding Model With RMS', 'Embedding Model With Adam',])\n",
    " \n",
    "# Create legend & Show graphic\n",
    "plt.legend()\n",
    "plt.show()"
   ]
  },
  {
   "cell_type": "markdown",
   "metadata": {},
   "source": [
    "The models are close in terms of their performance, however I'll be choosing the initial 200 embedding model with RMSprop as the optimizer for the model as it has greater accuracy and recall, and is likely to be more generalisable. "
   ]
  },
  {
   "cell_type": "markdown",
   "metadata": {},
   "source": [
    "## Moving forward"
   ]
  },
  {
   "cell_type": "markdown",
   "metadata": {},
   "source": [
    "We have saved our optimal model and the fitted tokenizer, and I will be using these to make an simple app in which users can input their own reviews and scores and the model will output. The goal is to take unlabeled data like emails and tweets and be able to gain large scale insight about it. \n",
    "\n",
    "The dataset itself is quite limiting, it only consists of food reviews, so it would be great to generalize this with a broader dataset comprising different types of products.\n",
    "\n",
    "Below I have presented my previous modelling approach resulting in a less successful and computationally more expensive model."
   ]
  },
  {
   "cell_type": "markdown",
   "metadata": {},
   "source": [
    "## Previous Modelling Approach"
   ]
  },
  {
   "cell_type": "code",
   "execution_count": 5,
   "metadata": {},
   "outputs": [
    {
     "name": "stdout",
     "output_type": "stream",
     "text": [
      "CPU times: user 1min 51s, sys: 1.01 s, total: 1min 52s\n",
      "Wall time: 1min 59s\n"
     ]
    }
   ],
   "source": [
    "%%time\n",
    "stemmer = PorterStemmer()\n",
    "corpus = [casual_tokenize(doc.lower()) for doc in df.Text]\n",
    "corpus_sw = [lib.remove_stopwords(doc) for doc in corpus]\n",
    "stemmed_corpus = []\n",
    "for doc in corpus_sw:\n",
    "    stemmed_corpus.append([stemmer.stem(word) for word in doc])"
   ]
  },
  {
   "cell_type": "code",
   "execution_count": 6,
   "metadata": {},
   "outputs": [],
   "source": [
    "def dummy_func(doc):\n",
    "    return doc\n",
    "\n",
    "vectorizer = TfidfVectorizer(ngram_range=(1, 1), \n",
    "                             tokenizer=dummy_func, \n",
    "                             preprocessor=dummy_func, \n",
    "                             max_features=8000)\n",
    "wv = vectorizer.fit_transform(stemmed_corpus)    "
   ]
  },
  {
   "cell_type": "code",
   "execution_count": 7,
   "metadata": {},
   "outputs": [
    {
     "data": {
      "text/plain": [
       "True"
      ]
     },
     "execution_count": 7,
     "metadata": {},
     "output_type": "execute_result"
    }
   ],
   "source": [
    "wv.shape[0] == len(df)"
   ]
  },
  {
   "cell_type": "code",
   "execution_count": 8,
   "metadata": {},
   "outputs": [],
   "source": [
    "dense_wv = wv.toarray()\n",
    "feature_names = vectorizer.vocabulary_\n",
    "sorted_features = {k: v for k, v in sorted(feature_names.items(), key=lambda item: item[1])}\n",
    "wv_df = pd.DataFrame(dense_wv, columns = sorted_features.keys())\n",
    "wv_df['Target'] = df.Score"
   ]
  },
  {
   "cell_type": "code",
   "execution_count": 9,
   "metadata": {},
   "outputs": [],
   "source": [
    "def to_one_hot(labels, dimension=5):\n",
    "    results = np.zeros((len(labels), dimension))\n",
    "    for i, label in enumerate(labels):\n",
    "        results[i, label-1] = 1\n",
    "    return results"
   ]
  },
  {
   "cell_type": "code",
   "execution_count": 10,
   "metadata": {},
   "outputs": [],
   "source": [
    "X = wv_df.drop(columns='Target', axis=1)\n",
    "y = wv_df.Target\n",
    "\n",
    "X_train, X_test, y_train, y_test = train_test_split(X, y, random_state = 42)\n",
    "\n",
    "one_hot_train_labels = to_one_hot(y_train)\n",
    "one_hot_test_labels = to_one_hot(y_test)"
   ]
  },
  {
   "cell_type": "code",
   "execution_count": 11,
   "metadata": {},
   "outputs": [
    {
     "data": {
      "text/plain": [
       "array([0., 0., 1., 0., 0.])"
      ]
     },
     "execution_count": 11,
     "metadata": {},
     "output_type": "execute_result"
    }
   ],
   "source": [
    "one_hot_train_labels[0]"
   ]
  },
  {
   "cell_type": "code",
   "execution_count": 12,
   "metadata": {},
   "outputs": [],
   "source": [
    "x_val = X_train[:6800]\n",
    "partial_x_train = X_train[6800:]\n",
    "y_val = one_hot_train_labels[:6800]\n",
    "partial_y_train = one_hot_train_labels[6800:]"
   ]
  },
  {
   "cell_type": "code",
   "execution_count": 13,
   "metadata": {},
   "outputs": [
    {
     "name": "stdout",
     "output_type": "stream",
     "text": [
      "(61294, 8000) (61294, 5)\n",
      "(22699, 8000) (22699, 5)\n"
     ]
    }
   ],
   "source": [
    "print(partial_x_train.shape,partial_y_train.shape)\n",
    "print(X_test.shape,one_hot_test_labels.shape)"
   ]
  },
  {
   "cell_type": "code",
   "execution_count": 14,
   "metadata": {},
   "outputs": [
    {
     "data": {
      "text/plain": [
       "8000"
      ]
     },
     "execution_count": 14,
     "metadata": {},
     "output_type": "execute_result"
    }
   ],
   "source": [
    "partial_x_train.shape[1]"
   ]
  },
  {
   "cell_type": "code",
   "execution_count": 15,
   "metadata": {},
   "outputs": [],
   "source": [
    "simple_nn = models.Sequential()\n",
    "simple_nn.add(layers.Dense(32, activation='relu', input_shape = (partial_x_train.shape[1], )))\n",
    "simple_nn.add(layers.Dropout(0.4))\n",
    "simple_nn.add(layers.Dense(32, activation='relu'))\n",
    "simple_nn.add(layers.Dropout(0.25))\n",
    "simple_nn.add(layers.Dense(5, activation='softmax'))"
   ]
  },
  {
   "cell_type": "code",
   "execution_count": 16,
   "metadata": {},
   "outputs": [],
   "source": [
    "simple_nn.compile(optimizer='adam',\n",
    "                  loss='categorical_crossentropy',\n",
    "                  metrics = [metrics.categorical_accuracy])"
   ]
  },
  {
   "cell_type": "code",
   "execution_count": 17,
   "metadata": {},
   "outputs": [
    {
     "name": "stdout",
     "output_type": "stream",
     "text": [
      "WARNING:tensorflow:From //anaconda3/lib/python3.7/site-packages/keras/backend/tensorflow_backend.py:422: The name tf.global_variables is deprecated. Please use tf.compat.v1.global_variables instead.\n",
      "\n",
      "Train on 61294 samples, validate on 6800 samples\n",
      "Epoch 1/10\n",
      "61294/61294 [==============================] - 12s 198us/step - loss: 1.4929 - categorical_accuracy: 0.3669 - val_loss: 1.3014 - val_categorical_accuracy: 0.4459\n",
      "Epoch 2/10\n",
      "61294/61294 [==============================] - 8s 128us/step - loss: 1.2099 - categorical_accuracy: 0.4962 - val_loss: 1.1253 - val_categorical_accuracy: 0.5316\n",
      "Epoch 3/10\n",
      "61294/61294 [==============================] - 8s 130us/step - loss: 1.0921 - categorical_accuracy: 0.5495 - val_loss: 1.0889 - val_categorical_accuracy: 0.5474\n",
      "Epoch 4/10\n",
      "61294/61294 [==============================] - 9s 141us/step - loss: 1.0285 - categorical_accuracy: 0.5799 - val_loss: 1.0797 - val_categorical_accuracy: 0.5537\n",
      "Epoch 5/10\n",
      "61294/61294 [==============================] - 9s 154us/step - loss: 0.9886 - categorical_accuracy: 0.6005 - val_loss: 1.0795 - val_categorical_accuracy: 0.5560\n",
      "Epoch 6/10\n",
      "61294/61294 [==============================] - 10s 164us/step - loss: 0.9489 - categorical_accuracy: 0.6208 - val_loss: 1.0852 - val_categorical_accuracy: 0.5569\n",
      "Epoch 7/10\n",
      "61294/61294 [==============================] - 8s 139us/step - loss: 0.9181 - categorical_accuracy: 0.6351 - val_loss: 1.0934 - val_categorical_accuracy: 0.5599\n",
      "Epoch 8/10\n",
      "61294/61294 [==============================] - 8s 134us/step - loss: 0.8850 - categorical_accuracy: 0.6504 - val_loss: 1.1010 - val_categorical_accuracy: 0.5597\n",
      "Epoch 9/10\n",
      "61294/61294 [==============================] - 8s 124us/step - loss: 0.8567 - categorical_accuracy: 0.6638 - val_loss: 1.1157 - val_categorical_accuracy: 0.5618\n",
      "Epoch 10/10\n",
      "61294/61294 [==============================] - 7s 121us/step - loss: 0.8297 - categorical_accuracy: 0.6774 - val_loss: 1.1239 - val_categorical_accuracy: 0.5597\n"
     ]
    }
   ],
   "source": [
    "nn_history = simple_nn.fit(partial_x_train,\n",
    "                        partial_y_train,\n",
    "                        epochs=10,\n",
    "                        batch_size=512,\n",
    "                        validation_data=(x_val, y_val))"
   ]
  },
  {
   "cell_type": "code",
   "execution_count": null,
   "metadata": {},
   "outputs": [],
   "source": []
  },
  {
   "cell_type": "code",
   "execution_count": null,
   "metadata": {},
   "outputs": [],
   "source": []
  }
 ],
 "metadata": {
  "kernelspec": {
   "display_name": "Python 3",
   "language": "python",
   "name": "python3"
  },
  "language_info": {
   "codemirror_mode": {
    "name": "ipython",
    "version": 3
   },
   "file_extension": ".py",
   "mimetype": "text/x-python",
   "name": "python",
   "nbconvert_exporter": "python",
   "pygments_lexer": "ipython3",
   "version": "3.7.5"
  }
 },
 "nbformat": 4,
 "nbformat_minor": 4
}
