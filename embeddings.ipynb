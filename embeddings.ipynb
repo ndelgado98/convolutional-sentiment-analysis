{
 "cells": [
  {
   "cell_type": "code",
   "execution_count": 49,
   "metadata": {},
   "outputs": [],
   "source": [
    "import library as lib\n",
    "import visualisation as viz\n",
    "\n",
    "import string\n",
    "import pickle\n",
    "from collections import Counter\n",
    "\n",
    "import pandas as pd\n",
    "import numpy as np\n",
    "import swifter\n",
    "\n",
    "from nltk.tokenize import casual_tokenize\n",
    "from nltk.stem.porter import PorterStemmer\n",
    "from vaderSentiment.vaderSentiment import SentimentIntensityAnalyzer\n",
    "\n",
    "\n",
    "from sklearn.model_selection import train_test_split\n",
    "from sklearn.feature_extraction.text import TfidfVectorizer\n",
    "from sklearn.utils import resample, shuffle\n",
    "from sklearn.preprocessing import LabelEncoder\n",
    "\n",
    "from keras import layers\n",
    "from keras import optimizers\n",
    "from keras import models\n",
    "from keras import losses\n",
    "from keras import metrics\n",
    "from keras.utils.np_utils import to_categorical\n",
    "from keras.preprocessing.text import Tokenizer\n",
    "from keras.preprocessing.sequence import pad_sequences\n",
    "from keras.utils.np_utils import to_categorical\n",
    "from keras import backend as K\n",
    "\n",
    "\n",
    "\n",
    "\n",
    "import seaborn as sns\n",
    "import matplotlib.pyplot as plt\n",
    "sns.set()\n",
    "%matplotlib inline"
   ]
  },
  {
   "cell_type": "code",
   "execution_count": 107,
   "metadata": {},
   "outputs": [
    {
     "name": "stdout",
     "output_type": "stream",
     "text": [
      "The autoreload extension is already loaded. To reload it, use:\n",
      "  %reload_ext autoreload\n"
     ]
    }
   ],
   "source": [
    "%load_ext autoreload\n",
    "%autoreload 2"
   ]
  },
  {
   "cell_type": "code",
   "execution_count": 51,
   "metadata": {},
   "outputs": [],
   "source": [
    "df = pd.read_csv('sampled_balanced_df.csv')"
   ]
  },
  {
   "cell_type": "code",
   "execution_count": 122,
   "metadata": {},
   "outputs": [],
   "source": [
    "num_words = 20000\n",
    "epochs = 10  \n",
    "batch_size = 512  \n",
    "sequence_len = 200  # Maximum number of words in a sequence\n",
    "embedding_dimensions = 200"
   ]
  },
  {
   "cell_type": "code",
   "execution_count": 85,
   "metadata": {},
   "outputs": [],
   "source": [
    "df.Text = df.Text.apply(lib.remove_stopwords, join=True)"
   ]
  },
  {
   "cell_type": "code",
   "execution_count": 86,
   "metadata": {},
   "outputs": [
    {
     "data": {
      "text/plain": [
       "0    [I, tried, jerky, fabulous!!!, Its, spicy, not...\n",
       "1    [Let, say, I, like, medium, roast, coffee.., N...\n",
       "2    [We, tried, purple,, green,, red, puffs,, like...\n",
       "3    [I, actually, like, tea,, I, give, three, star...\n",
       "4    [Oatmeal, raisin, cookies, favorite, type, coo...\n",
       "Name: Text, dtype: object"
      ]
     },
     "execution_count": 86,
     "metadata": {},
     "output_type": "execute_result"
    }
   ],
   "source": [
    "df.Text.head()"
   ]
  },
  {
   "cell_type": "code",
   "execution_count": 87,
   "metadata": {},
   "outputs": [],
   "source": [
    "X_train, X_test, y_train, y_test = train_test_split(df.Text, df.Score, test_size=0.2, random_state=42)"
   ]
  },
  {
   "cell_type": "code",
   "execution_count": 123,
   "metadata": {},
   "outputs": [],
   "source": [
    "tk = Tokenizer(num_words=num_words,\n",
    "filters='!\"#$%&()*+,-./:;<=>?@[\\]^_`{\"}~\\t\\n',lower=True, split=\" \")\n",
    "tk.fit_on_texts(X_train)\n",
    "X_train_seq = tk.texts_to_sequences(X_train)\n",
    "X_test_seq = tk.texts_to_sequences(X_test)"
   ]
  },
  {
   "cell_type": "code",
   "execution_count": 199,
   "metadata": {},
   "outputs": [
    {
     "data": {
      "text/plain": [
       "[1,\n",
       " 1256,\n",
       " 9,\n",
       " 4356,\n",
       " 83,\n",
       " 9426,\n",
       " 967,\n",
       " 99,\n",
       " 7828,\n",
       " 3,\n",
       " 4190,\n",
       " 1650,\n",
       " 9,\n",
       " 25,\n",
       " 7,\n",
       " 1650,\n",
       " 670,\n",
       " 7,\n",
       " 138,\n",
       " 4046,\n",
       " 15,\n",
       " 1683,\n",
       " 3,\n",
       " 3443,\n",
       " 1650,\n",
       " 12189,\n",
       " 1650,\n",
       " 2,\n",
       " 824,\n",
       " 1650,\n",
       " 407,\n",
       " 17961,\n",
       " 3,\n",
       " 1650,\n",
       " 15,\n",
       " 4069,\n",
       " 2573,\n",
       " 1650,\n",
       " 347,\n",
       " 352,\n",
       " 4898]"
      ]
     },
     "execution_count": 199,
     "metadata": {},
     "output_type": "execute_result"
    }
   ],
   "source": [
    "X_train_seq[0]"
   ]
  },
  {
   "cell_type": "code",
   "execution_count": 130,
   "metadata": {},
   "outputs": [],
   "source": [
    "pickle.dump(tk, open( \"tk_20k_vocab_200_words.pkl\", \"wb\" ) )"
   ]
  },
  {
   "cell_type": "code",
   "execution_count": 89,
   "metadata": {},
   "outputs": [
    {
     "data": {
      "text/plain": [
       "[63,\n",
       " 9858,\n",
       " 184,\n",
       " 155,\n",
       " 73,\n",
       " 66,\n",
       " 16,\n",
       " 78,\n",
       " 5966,\n",
       " 17,\n",
       " 2660,\n",
       " 142,\n",
       " 27,\n",
       " 291,\n",
       " 414,\n",
       " 6,\n",
       " 43,\n",
       " 125,\n",
       " 13,\n",
       " 170,\n",
       " 190,\n",
       " 912,\n",
       " 190,\n",
       " 230,\n",
       " 11,\n",
       " 8707,\n",
       " 24,\n",
       " 1,\n",
       " 5082,\n",
       " 358,\n",
       " 310,\n",
       " 222,\n",
       " 132,\n",
       " 6177]"
      ]
     },
     "execution_count": 89,
     "metadata": {},
     "output_type": "execute_result"
    }
   ],
   "source": [
    "X_train_seq[7]"
   ]
  },
  {
   "cell_type": "code",
   "execution_count": 124,
   "metadata": {},
   "outputs": [],
   "source": [
    "X_train_seq_pad = pad_sequences(X_train_seq, maxlen=sequence_len)\n",
    "X_test_seq_pad = pad_sequences(X_test_seq, maxlen=sequence_len)"
   ]
  },
  {
   "cell_type": "code",
   "execution_count": 125,
   "metadata": {},
   "outputs": [],
   "source": [
    "le = LabelEncoder()\n",
    "y_train_le = le.fit_transform(y_train)\n",
    "y_test_le = le.transform(y_test)\n",
    "y_train_oh = to_categorical(y_train_le)\n",
    "y_test_oh = to_categorical(y_test_le)"
   ]
  },
  {
   "cell_type": "code",
   "execution_count": 126,
   "metadata": {},
   "outputs": [],
   "source": [
    "X_train_emb, X_valid_emb, y_train_emb, y_valid_emb = train_test_split(X_train_seq_pad, y_train_oh, test_size=0.1, random_state=37)"
   ]
  },
  {
   "cell_type": "code",
   "execution_count": 200,
   "metadata": {},
   "outputs": [
    {
     "data": {
      "text/plain": [
       "array([[0., 0., 0., 1., 0.],\n",
       "       [0., 0., 0., 0., 1.],\n",
       "       [0., 0., 0., 1., 0.],\n",
       "       ...,\n",
       "       [0., 0., 0., 0., 1.],\n",
       "       [0., 1., 0., 0., 0.],\n",
       "       [0., 0., 0., 0., 1.]], dtype=float32)"
      ]
     },
     "execution_count": 200,
     "metadata": {},
     "output_type": "execute_result"
    }
   ],
   "source": [
    "y_train_emb"
   ]
  },
  {
   "cell_type": "code",
   "execution_count": 201,
   "metadata": {},
   "outputs": [
    {
     "data": {
      "text/plain": [
       "array([    0,     0,     0,     0,     0,     0,     0,     0,     0,\n",
       "           0,     0,     0,     0,     0,     0,     0,     0,     0,\n",
       "           0,     0,     0,     0,     0,     0,     0,     0,     0,\n",
       "           0,     0,     0,     0,     0,     0,     0,     0,     0,\n",
       "           0,     0,     0,     0,     0,     0,     0,     0,     0,\n",
       "           0,     0,     0,     0,     0,     0,     0,     0,     0,\n",
       "           0,     0,     0,     0,     0,     0,     0,     0,     0,\n",
       "           0,     0,     0,     0,     0,     0,     0,     0,     0,\n",
       "           0,     0,     0,     0,     0,     0,     0,     0,     0,\n",
       "           0,     0,     0,     0,     0,     0,     0,     0,     0,\n",
       "           0,     0,     0,     0,     0,     0,     0,     0,     0,\n",
       "           0,     0,     0,     0,     0,     0,     0,     0,     0,\n",
       "           0,     0,     0,     0,     0,     0,     0,     0,     0,\n",
       "           0,     0,     0,     0,     0,     0,     0,     0,     0,\n",
       "           0,     0,     0,     0,     0,     0,     0,     0,     0,\n",
       "           0,     0,     0,     0,     0,     0,     0,     0,     0,\n",
       "           0,     0,     0,     0,     0,     0,     0,     0,     0,\n",
       "           0,     0,     0,     0,     0,     0,     0,     0,     0,\n",
       "           0,     0,     0,     0,     0,     0,     0,    51,   876,\n",
       "        1219,   151,   109,  1877,    52,   501,   992, 12400,  1280,\n",
       "          18,   116,    97,   437,  5277,    17,     2,   475,  4457,\n",
       "          10,    33,    59,  1335,   774,   143,  2341,     1,    96,\n",
       "        1038,  2032], dtype=int32)"
      ]
     },
     "execution_count": 201,
     "metadata": {},
     "output_type": "execute_result"
    }
   ],
   "source": [
    "X_train_emb[0]"
   ]
  },
  {
   "cell_type": "markdown",
   "metadata": {},
   "source": [
    "## Training Proprietary Embeddings"
   ]
  },
  {
   "cell_type": "code",
   "execution_count": 162,
   "metadata": {},
   "outputs": [
    {
     "name": "stdout",
     "output_type": "stream",
     "text": [
      "Train on 65370 samples, validate on 7264 samples\n",
      "Epoch 1/10\n",
      "65370/65370 [==============================] - 37s 561us/step - loss: 1.4275 - categorical_accuracy: 0.3895 - f1_m: 0.0987 - precision_m: 0.3989 - recall_m: 0.0600 - val_loss: 1.2101 - val_categorical_accuracy: 0.4894 - val_f1_m: 0.3333 - val_precision_m: 0.6609 - val_recall_m: 0.2233\n",
      "Epoch 2/10\n",
      "65370/65370 [==============================] - 36s 553us/step - loss: 1.1217 - categorical_accuracy: 0.5377 - f1_m: 0.4369 - precision_m: 0.6767 - recall_m: 0.3242 - val_loss: 1.0770 - val_categorical_accuracy: 0.5496 - val_f1_m: 0.4626 - val_precision_m: 0.6746 - val_recall_m: 0.3523\n",
      "Epoch 3/10\n",
      "65370/65370 [==============================] - 38s 574us/step - loss: 0.9422 - categorical_accuracy: 0.6223 - f1_m: 0.5679 - precision_m: 0.7299 - recall_m: 0.4652 - val_loss: 1.0303 - val_categorical_accuracy: 0.5789 - val_f1_m: 0.5251 - val_precision_m: 0.6749 - val_recall_m: 0.4300\n",
      "Epoch 4/10\n",
      "65370/65370 [==============================] - 39s 602us/step - loss: 0.7763 - categorical_accuracy: 0.7010 - f1_m: 0.6698 - precision_m: 0.7774 - recall_m: 0.5886 - val_loss: 1.0242 - val_categorical_accuracy: 0.5944 - val_f1_m: 0.5688 - val_precision_m: 0.6740 - val_recall_m: 0.4922\n",
      "Epoch 5/10\n",
      "65370/65370 [==============================] - 47s 721us/step - loss: 0.6237 - categorical_accuracy: 0.7661 - f1_m: 0.7515 - precision_m: 0.8231 - recall_m: 0.6914 - val_loss: 1.0538 - val_categorical_accuracy: 0.5953 - val_f1_m: 0.5887 - val_precision_m: 0.6725 - val_recall_m: 0.5237\n",
      "Epoch 6/10\n",
      "65370/65370 [==============================] - 42s 641us/step - loss: 0.4955 - categorical_accuracy: 0.8221 - f1_m: 0.8132 - precision_m: 0.8607 - recall_m: 0.7707 - val_loss: 1.1539 - val_categorical_accuracy: 0.5933 - val_f1_m: 0.5882 - val_precision_m: 0.6361 - val_recall_m: 0.5471\n",
      "Epoch 7/10\n",
      "65370/65370 [==============================] - 42s 641us/step - loss: 0.3843 - categorical_accuracy: 0.8659 - f1_m: 0.8627 - precision_m: 0.8923 - recall_m: 0.8350 - val_loss: 1.2372 - val_categorical_accuracy: 0.6038 - val_f1_m: 0.6001 - val_precision_m: 0.6379 - val_recall_m: 0.5666\n",
      "Epoch 8/10\n",
      "65370/65370 [==============================] - 42s 639us/step - loss: 0.3025 - categorical_accuracy: 0.8968 - f1_m: 0.8948 - precision_m: 0.9149 - recall_m: 0.8756 - val_loss: 1.3459 - val_categorical_accuracy: 0.5988 - val_f1_m: 0.5949 - val_precision_m: 0.6270 - val_recall_m: 0.5659\n",
      "Epoch 9/10\n",
      "65370/65370 [==============================] - 40s 612us/step - loss: 0.2448 - categorical_accuracy: 0.9172 - f1_m: 0.9160 - precision_m: 0.9308 - recall_m: 0.9017 - val_loss: 1.4444 - val_categorical_accuracy: 0.6001 - val_f1_m: 0.5975 - val_precision_m: 0.6257 - val_recall_m: 0.5719\n",
      "Epoch 10/10\n",
      "65370/65370 [==============================] - 39s 591us/step - loss: 0.1999 - categorical_accuracy: 0.9335 - f1_m: 0.9330 - precision_m: 0.9434 - recall_m: 0.9229 - val_loss: 1.5673 - val_categorical_accuracy: 0.5988 - val_f1_m: 0.5977 - val_precision_m: 0.6200 - val_recall_m: 0.5771\n"
     ]
    }
   ],
   "source": [
    "emb_model = models.Sequential()\n",
    "emb_model.add(layers.Embedding(num_words, 200, input_length=sequence_len))\n",
    "emb_model.add(layers.Conv1D(32,\n",
    "                            5,\n",
    "                            activation='relu',\n",
    "                            input_shape=(200,1)))\n",
    "emb_model.add(layers.GlobalMaxPooling1D())\n",
    "emb_model.add(layers.Dropout(0.2))\n",
    "emb_model.add(layers.Dense(64,activation='relu',))\n",
    "emb_model.add(layers.Dropout(0.2))\n",
    "emb_model.add(layers.Dense(5, activation='softmax'))\n",
    "emb_model.compile(optimizer='rmsprop',\n",
    "                  loss='categorical_crossentropy',\n",
    "                  metrics=[metrics.categorical_accuracy, lib.f1_m, lib.precision_m, lib.recall_m])\n",
    "emb_history = emb_model.fit(X_train_emb,\n",
    "                            y_train_emb,\n",
    "                            epochs=epochs,\n",
    "                            batch_size=batch_size,\n",
    "                            validation_data=(X_valid_emb, y_valid_emb))"
   ]
  },
  {
   "cell_type": "code",
   "execution_count": 167,
   "metadata": {},
   "outputs": [
    {
     "data": {
      "image/png": "[encoded data removed]",
      "text/plain": [
       "<Figure size 432x288 with 1 Axes>"
      ]
     },
     "metadata": {},
     "output_type": "display_data"
    },
    {
     "data": {
      "image/png": "[encoded data removed]",
      "text/plain": [
       "<Figure size 432x288 with 1 Axes>"
      ]
     },
     "metadata": {},
     "output_type": "display_data"
    },
    {
     "data": {
      "text/plain": [
       "(None, None)"
      ]
     },
     "execution_count": 167,
     "metadata": {},
     "output_type": "execute_result"
    }
   ],
   "source": [
    "viz.plot_accuracy(emb_history), viz.plot_loss(emb_history)"
   ]
  },
  {
   "cell_type": "code",
   "execution_count": 196,
   "metadata": {},
   "outputs": [
    {
     "name": "stdout",
     "output_type": "stream",
     "text": [
      "18159/18159 [==============================] - 4s 221us/step\n",
      "The loss score is: 1.5364400170055397\n",
      "The categorical_accuracy score is: 0.6049342155456543\n",
      "The f1_m score is: 0.6060546040534973\n",
      "The precision_m score is: 0.6280965209007263\n",
      "The recall_m score is: 0.5861759185791016\n"
     ]
    }
   ],
   "source": [
    "emb_scores = lib.verbose_evaluate(emb_model, X_test_seq_pad, y_test_oh)"
   ]
  },
  {
   "cell_type": "code",
   "execution_count": 187,
   "metadata": {},
   "outputs": [],
   "source": [
    "emb_model.save('conv_embedding_model.h5')"
   ]
  },
  {
   "cell_type": "code",
   "execution_count": 190,
   "metadata": {},
   "outputs": [
    {
     "name": "stdout",
     "output_type": "stream",
     "text": [
      "Train on 65370 samples, validate on 7264 samples\n",
      "Epoch 1/10\n",
      "65370/65370 [==============================] - 33s 505us/step - loss: 1.5522 - categorical_accuracy: 0.3085 - f1_m: 0.0103 - precision_m: 0.3006 - recall_m: 0.0053 - val_loss: 1.4485 - val_categorical_accuracy: 0.3838 - val_f1_m: 0.0385 - val_precision_m: 0.8114 - val_recall_m: 0.0197\n",
      "Epoch 2/10\n",
      "65370/65370 [==============================] - 31s 481us/step - loss: 1.3497 - categorical_accuracy: 0.4337 - f1_m: 0.2145 - precision_m: 0.6388 - recall_m: 0.1317 - val_loss: 1.2249 - val_categorical_accuracy: 0.4685 - val_f1_m: 0.2676 - val_precision_m: 0.7187 - val_recall_m: 0.1645\n",
      "Epoch 3/10\n",
      "65370/65370 [==============================] - 32s 489us/step - loss: 1.1895 - categorical_accuracy: 0.4973 - f1_m: 0.3706 - precision_m: 0.6619 - recall_m: 0.2581 - val_loss: 1.1606 - val_categorical_accuracy: 0.5040 - val_f1_m: 0.3768 - val_precision_m: 0.7037 - val_recall_m: 0.2576\n",
      "Epoch 4/10\n",
      "65370/65370 [==============================] - 31s 476us/step - loss: 1.0782 - categorical_accuracy: 0.5464 - f1_m: 0.4607 - precision_m: 0.6923 - recall_m: 0.3458 - val_loss: 1.1288 - val_categorical_accuracy: 0.5224 - val_f1_m: 0.4425 - val_precision_m: 0.6769 - val_recall_m: 0.3290\n",
      "Epoch 5/10\n",
      "65370/65370 [==============================] - 34s 516us/step - loss: 0.9920 - categorical_accuracy: 0.5827 - f1_m: 0.5239 - precision_m: 0.7167 - recall_m: 0.4131 - val_loss: 1.1389 - val_categorical_accuracy: 0.5306 - val_f1_m: 0.4585 - val_precision_m: 0.6553 - val_recall_m: 0.3527\n",
      "Epoch 6/10\n",
      "65370/65370 [==============================] - 32s 495us/step - loss: 0.9283 - categorical_accuracy: 0.6137 - f1_m: 0.5662 - precision_m: 0.7398 - recall_m: 0.4587 - val_loss: 1.1460 - val_categorical_accuracy: 0.5231 - val_f1_m: 0.4735 - val_precision_m: 0.6477 - val_recall_m: 0.3734\n",
      "Epoch 7/10\n",
      "65370/65370 [==============================] - 32s 485us/step - loss: 0.8777 - categorical_accuracy: 0.6336 - f1_m: 0.5969 - precision_m: 0.7537 - recall_m: 0.4943 - val_loss: 1.1757 - val_categorical_accuracy: 0.5311 - val_f1_m: 0.4830 - val_precision_m: 0.6353 - val_recall_m: 0.3897\n",
      "Epoch 8/10\n",
      "65370/65370 [==============================] - 32s 485us/step - loss: 0.8312 - categorical_accuracy: 0.6529 - f1_m: 0.6263 - precision_m: 0.7727 - recall_m: 0.5268 - val_loss: 1.1811 - val_categorical_accuracy: 0.5395 - val_f1_m: 0.4961 - val_precision_m: 0.6557 - val_recall_m: 0.3992\n",
      "Epoch 9/10\n",
      "65370/65370 [==============================] - 33s 503us/step - loss: 0.7865 - categorical_accuracy: 0.6715 - f1_m: 0.6486 - precision_m: 0.7869 - recall_m: 0.5519 - val_loss: 1.2158 - val_categorical_accuracy: 0.5424 - val_f1_m: 0.5040 - val_precision_m: 0.6362 - val_recall_m: 0.4175\n",
      "Epoch 10/10\n",
      "65370/65370 [==============================] - 32s 496us/step - loss: 0.7608 - categorical_accuracy: 0.6828 - f1_m: 0.6638 - precision_m: 0.7929 - recall_m: 0.5710 - val_loss: 1.2478 - val_categorical_accuracy: 0.5362 - val_f1_m: 0.5046 - val_precision_m: 0.6353 - val_recall_m: 0.4186\n"
     ]
    }
   ],
   "source": [
    "emb_adam_model = models.Sequential()\n",
    "emb_adam_model.add(layers.Embedding(num_words, 200, input_length=sequence_len))\n",
    "emb_adam_model.add(layers.Conv1D(16,\n",
    "                                 5,\n",
    "                                 activation='relu',\n",
    "                                 input_shape=(200,1)))\n",
    "emb_adam_model.add(layers.GlobalMaxPooling1D())\n",
    "emb_adam_model.add(layers.Dropout(0.5))\n",
    "emb_adam_model.add(layers.Dense(32,activation='relu',))\n",
    "emb_adam_model.add(layers.Dropout(0.2))\n",
    "emb_adam_model.add(layers.Dense(5, activation='softmax'))\n",
    "emb_adam_model.compile(optimizer='adam',\n",
    "                      loss='categorical_crossentropy',\n",
    "                      metrics=[metrics.categorical_accuracy, lib.f1_m, lib.precision_m, lib.recall_m])\n",
    "emb_adam_history = emb_adam_model.fit(X_train_emb,\n",
    "                            y_train_emb,\n",
    "                            epochs=epochs,\n",
    "                            batch_size=batch_size,\n",
    "                            validation_data=(X_valid_emb, y_valid_emb))"
   ]
  },
  {
   "cell_type": "code",
   "execution_count": 191,
   "metadata": {},
   "outputs": [
    {
     "data": {
      "image/png": "[encoded data removed]",
      "text/plain": [
       "<Figure size 432x288 with 1 Axes>"
      ]
     },
     "metadata": {},
     "output_type": "display_data"
    },
    {
     "data": {
      "image/png": "[encoded data removed]",
      "text/plain": [
       "<Figure size 432x288 with 1 Axes>"
      ]
     },
     "metadata": {},
     "output_type": "display_data"
    },
    {
     "data": {
      "text/plain": [
       "(None, None)"
      ]
     },
     "execution_count": 191,
     "metadata": {},
     "output_type": "execute_result"
    }
   ],
   "source": [
    "viz.plot_accuracy(emb_adam_history), viz.plot_loss(emb_adam_history)"
   ]
  },
  {
   "cell_type": "code",
   "execution_count": 194,
   "metadata": {},
   "outputs": [
    {
     "name": "stdout",
     "output_type": "stream",
     "text": [
      "18159/18159 [==============================] - 3s 174us/step\n",
      "The loss score is: 1.2201094538690602\n",
      "The categorical_accuracy score is: 0.5444132089614868\n",
      "The f1_m score is: 0.5150042176246643\n",
      "The precision_m score is: 0.6470223069190979\n",
      "The recall_m score is: 0.4305494427680969\n"
     ]
    }
   ],
   "source": [
    "emb_adam_scores = lib.verbose_evaluate(emb_adam_model, X_test_seq_pad, y_test_oh)"
   ]
  },
  {
   "cell_type": "markdown",
   "metadata": {},
   "source": [
    "### Comparison of the two models"
   ]
  },
  {
   "cell_type": "code",
   "execution_count": 197,
   "metadata": {},
   "outputs": [],
   "source": [
    "emb_scores = list(emb_scores.values())\n",
    "emb_adam_scores = list(emb_adam_scores.values())\n",
    "loss = [emb_scores[0], emb_adam_scores[0]]\n",
    "categorical_accuracy = [emb_scores[1], emb_adam_scores[1]]\n",
    "f1 = [emb_scores[2], emb_adam_scores[2]]\n",
    "precision = [emb_scores[3], emb_adam_scores[3]]\n",
    "recall = [emb_scores[4], emb_adam_scores[4]]"
   ]
  },
  {
   "cell_type": "code",
   "execution_count": 198,
   "metadata": {},
   "outputs": [
    {
     "data": {
      "image/png": "[encoded data removed]",
      "text/plain": [
       "<Figure size 432x288 with 1 Axes>"
      ]
     },
     "metadata": {},
     "output_type": "display_data"
    }
   ],
   "source": [
    "barWidth = 0.1\n",
    "\n",
    "# Set position of bar on X axis\n",
    "r1 = np.arange(len(loss))\n",
    "r2 = [x + barWidth for x in r1]\n",
    "r3 = [x + barWidth for x in r2]\n",
    "r4 = [x + barWidth for x in r3]\n",
    "r5 = [x + barWidth for x in r4]\n",
    " \n",
    "# Make the plot\n",
    "plt.bar(r1, loss, width=barWidth, edgecolor='white', label='Loss')\n",
    "plt.bar(r2, categorical_accuracy, width=barWidth, edgecolor='white', label='Categorical Accuracy')\n",
    "plt.bar(r3, f1, width=barWidth, edgecolor='white', label='F1 Score')\n",
    "plt.bar(r4, precision, width=barWidth, edgecolor='white', label='Precision')\n",
    "plt.bar(r5, recall, width=barWidth, edgecolor='white', label='Recall')\n",
    " \n",
    "# Add xticks on the middle of the group bars\n",
    "plt.xlabel('Group', fontweight='bold')\n",
    "plt.xticks([r + barWidth for r in range(len(loss))], ['Embedding Model', 'Embedding Model With Adam',])\n",
    " \n",
    "# Create legend & Show graphic\n",
    "plt.legend()\n",
    "plt.show()"
   ]
  },
  {
   "cell_type": "markdown",
   "metadata": {},
   "source": [
    "## Previous Modelling Approach"
   ]
  },
  {
   "cell_type": "code",
   "execution_count": 5,
   "metadata": {},
   "outputs": [
    {
     "name": "stdout",
     "output_type": "stream",
     "text": [
      "CPU times: user 1min 51s, sys: 1.01 s, total: 1min 52s\n",
      "Wall time: 1min 59s\n"
     ]
    }
   ],
   "source": [
    "%%time\n",
    "stemmer = PorterStemmer()\n",
    "corpus = [casual_tokenize(doc.lower()) for doc in df.Text]\n",
    "corpus_sw = [lib.remove_stopwords(doc) for doc in corpus]\n",
    "stemmed_corpus = []\n",
    "for doc in corpus_sw:\n",
    "    stemmed_corpus.append([stemmer.stem(word) for word in doc])"
   ]
  },
  {
   "cell_type": "code",
   "execution_count": 6,
   "metadata": {},
   "outputs": [],
   "source": [
    "def dummy_func(doc):\n",
    "    return doc\n",
    "\n",
    "vectorizer = TfidfVectorizer(ngram_range=(1, 1), \n",
    "                             tokenizer=dummy_func, \n",
    "                             preprocessor=dummy_func, \n",
    "                             max_features=8000)\n",
    "wv = vectorizer.fit_transform(stemmed_corpus)    "
   ]
  },
  {
   "cell_type": "code",
   "execution_count": 7,
   "metadata": {},
   "outputs": [
    {
     "data": {
      "text/plain": [
       "True"
      ]
     },
     "execution_count": 7,
     "metadata": {},
     "output_type": "execute_result"
    }
   ],
   "source": [
    "wv.shape[0] == len(df)"
   ]
  },
  {
   "cell_type": "code",
   "execution_count": 8,
   "metadata": {},
   "outputs": [],
   "source": [
    "dense_wv = wv.toarray()\n",
    "feature_names = vectorizer.vocabulary_\n",
    "sorted_features = {k: v for k, v in sorted(feature_names.items(), key=lambda item: item[1])}\n",
    "wv_df = pd.DataFrame(dense_wv, columns = sorted_features.keys())\n",
    "wv_df['Target'] = df.Score"
   ]
  },
  {
   "cell_type": "code",
   "execution_count": 9,
   "metadata": {},
   "outputs": [],
   "source": [
    "def to_one_hot(labels, dimension=5):\n",
    "    results = np.zeros((len(labels), dimension))\n",
    "    for i, label in enumerate(labels):\n",
    "        results[i, label-1] = 1\n",
    "    return results"
   ]
  },
  {
   "cell_type": "code",
   "execution_count": 10,
   "metadata": {},
   "outputs": [],
   "source": [
    "X = wv_df.drop(columns='Target', axis=1)\n",
    "y = wv_df.Target\n",
    "\n",
    "X_train, X_test, y_train, y_test = train_test_split(X, y, random_state = 42)\n",
    "\n",
    "one_hot_train_labels = to_one_hot(y_train)\n",
    "one_hot_test_labels = to_one_hot(y_test)"
   ]
  },
  {
   "cell_type": "code",
   "execution_count": 11,
   "metadata": {},
   "outputs": [
    {
     "data": {
      "text/plain": [
       "array([0., 0., 1., 0., 0.])"
      ]
     },
     "execution_count": 11,
     "metadata": {},
     "output_type": "execute_result"
    }
   ],
   "source": [
    "one_hot_train_labels[0]"
   ]
  },
  {
   "cell_type": "code",
   "execution_count": 12,
   "metadata": {},
   "outputs": [],
   "source": [
    "x_val = X_train[:6800]\n",
    "partial_x_train = X_train[6800:]\n",
    "y_val = one_hot_train_labels[:6800]\n",
    "partial_y_train = one_hot_train_labels[6800:]"
   ]
  },
  {
   "cell_type": "code",
   "execution_count": 13,
   "metadata": {},
   "outputs": [
    {
     "name": "stdout",
     "output_type": "stream",
     "text": [
      "(61294, 8000) (61294, 5)\n",
      "(22699, 8000) (22699, 5)\n"
     ]
    }
   ],
   "source": [
    "print(partial_x_train.shape,partial_y_train.shape)\n",
    "print(X_test.shape,one_hot_test_labels.shape)"
   ]
  },
  {
   "cell_type": "code",
   "execution_count": 14,
   "metadata": {},
   "outputs": [
    {
     "data": {
      "text/plain": [
       "8000"
      ]
     },
     "execution_count": 14,
     "metadata": {},
     "output_type": "execute_result"
    }
   ],
   "source": [
    "partial_x_train.shape[1]"
   ]
  },
  {
   "cell_type": "code",
   "execution_count": 15,
   "metadata": {},
   "outputs": [],
   "source": [
    "simple_nn = models.Sequential()\n",
    "simple_nn.add(layers.Dense(32, activation='relu', input_shape = (partial_x_train.shape[1], )))\n",
    "simple_nn.add(layers.Dropout(0.4))\n",
    "simple_nn.add(layers.Dense(32, activation='relu'))\n",
    "simple_nn.add(layers.Dropout(0.25))\n",
    "simple_nn.add(layers.Dense(5, activation='softmax'))"
   ]
  },
  {
   "cell_type": "code",
   "execution_count": 16,
   "metadata": {},
   "outputs": [],
   "source": [
    "simple_nn.compile(optimizer='adam',\n",
    "                  loss='categorical_crossentropy',\n",
    "                  metrics = [metrics.categorical_accuracy])"
   ]
  },
  {
   "cell_type": "code",
   "execution_count": 17,
   "metadata": {},
   "outputs": [
    {
     "name": "stdout",
     "output_type": "stream",
     "text": [
      "WARNING:tensorflow:From //anaconda3/lib/python3.7/site-packages/keras/backend/tensorflow_backend.py:422: The name tf.global_variables is deprecated. Please use tf.compat.v1.global_variables instead.\n",
      "\n",
      "Train on 61294 samples, validate on 6800 samples\n",
      "Epoch 1/10\n",
      "61294/61294 [==============================] - 12s 198us/step - loss: 1.4929 - categorical_accuracy: 0.3669 - val_loss: 1.3014 - val_categorical_accuracy: 0.4459\n",
      "Epoch 2/10\n",
      "61294/61294 [==============================] - 8s 128us/step - loss: 1.2099 - categorical_accuracy: 0.4962 - val_loss: 1.1253 - val_categorical_accuracy: 0.5316\n",
      "Epoch 3/10\n",
      "61294/61294 [==============================] - 8s 130us/step - loss: 1.0921 - categorical_accuracy: 0.5495 - val_loss: 1.0889 - val_categorical_accuracy: 0.5474\n",
      "Epoch 4/10\n",
      "61294/61294 [==============================] - 9s 141us/step - loss: 1.0285 - categorical_accuracy: 0.5799 - val_loss: 1.0797 - val_categorical_accuracy: 0.5537\n",
      "Epoch 5/10\n",
      "61294/61294 [==============================] - 9s 154us/step - loss: 0.9886 - categorical_accuracy: 0.6005 - val_loss: 1.0795 - val_categorical_accuracy: 0.5560\n",
      "Epoch 6/10\n",
      "61294/61294 [==============================] - 10s 164us/step - loss: 0.9489 - categorical_accuracy: 0.6208 - val_loss: 1.0852 - val_categorical_accuracy: 0.5569\n",
      "Epoch 7/10\n",
      "61294/61294 [==============================] - 8s 139us/step - loss: 0.9181 - categorical_accuracy: 0.6351 - val_loss: 1.0934 - val_categorical_accuracy: 0.5599\n",
      "Epoch 8/10\n",
      "61294/61294 [==============================] - 8s 134us/step - loss: 0.8850 - categorical_accuracy: 0.6504 - val_loss: 1.1010 - val_categorical_accuracy: 0.5597\n",
      "Epoch 9/10\n",
      "61294/61294 [==============================] - 8s 124us/step - loss: 0.8567 - categorical_accuracy: 0.6638 - val_loss: 1.1157 - val_categorical_accuracy: 0.5618\n",
      "Epoch 10/10\n",
      "61294/61294 [==============================] - 7s 121us/step - loss: 0.8297 - categorical_accuracy: 0.6774 - val_loss: 1.1239 - val_categorical_accuracy: 0.5597\n"
     ]
    }
   ],
   "source": [
    "nn_history = simple_nn.fit(partial_x_train,\n",
    "                        partial_y_train,\n",
    "                        epochs=10,\n",
    "                        batch_size=512,\n",
    "                        validation_data=(x_val, y_val))"
   ]
  },
  {
   "cell_type": "code",
   "execution_count": null,
   "metadata": {},
   "outputs": [],
   "source": []
  },
  {
   "cell_type": "code",
   "execution_count": null,
   "metadata": {},
   "outputs": [],
   "source": []
  }
 ],
 "metadata": {
  "kernelspec": {
   "display_name": "Python 3",
   "language": "python",
   "name": "python3"
  },
  "language_info": {
   "codemirror_mode": {
    "name": "ipython",
    "version": 3
   },
   "file_extension": ".py",
   "mimetype": "text/x-python",
   "name": "python",
   "nbconvert_exporter": "python",
   "pygments_lexer": "ipython3",
   "version": "3.7.5"
  }
 },
 "nbformat": 4,
 "nbformat_minor": 4
}
