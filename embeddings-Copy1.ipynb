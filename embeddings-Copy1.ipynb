{
 "cells": [
  {
   "cell_type": "code",
   "execution_count": 40,
   "metadata": {},
   "outputs": [],
   "source": [
    "import library as lib\n",
    "import visualisation as viz\n",
    "\n",
    "import string\n",
    "import pickle\n",
    "from collections import Counter\n",
    "\n",
    "import pandas as pd\n",
    "import numpy as np\n",
    "import swifter\n",
    "\n",
    "from nltk.tokenize import casual_tokenize\n",
    "from nltk.stem.porter import PorterStemmer\n",
    "from vaderSentiment.vaderSentiment import SentimentIntensityAnalyzer\n",
    "\n",
    "\n",
    "from sklearn.model_selection import train_test_split\n",
    "from sklearn.feature_extraction.text import TfidfVectorizer\n",
    "from sklearn.utils import resample, shuffle\n",
    "from sklearn.preprocessing import LabelEncoder\n",
    "from sklearn.metrics import roc_curve, roc_auc_score\n",
    "\n",
    "from keras import layers\n",
    "from keras import optimizers\n",
    "from keras import models\n",
    "from keras import losses\n",
    "from keras import metrics\n",
    "from keras.utils.np_utils import to_categorical\n",
    "from keras.preprocessing.text import Tokenizer\n",
    "from keras.preprocessing.sequence import pad_sequences\n",
    "from keras.utils.np_utils import to_categorical\n",
    "from keras import backend as K\n",
    "\n",
    "\n",
    "\n",
    "\n",
    "import seaborn as sns\n",
    "import matplotlib.pyplot as plt\n",
    "sns.set()\n",
    "%matplotlib inline"
   ]
  },
  {
   "cell_type": "code",
   "execution_count": 2,
   "metadata": {},
   "outputs": [],
   "source": [
    "%load_ext autoreload\n",
    "%autoreload 2"
   ]
  },
  {
   "cell_type": "code",
   "execution_count": 3,
   "metadata": {},
   "outputs": [],
   "source": [
    "df = pd.read_csv('Reviews.csv')"
   ]
  },
  {
   "cell_type": "code",
   "execution_count": 4,
   "metadata": {},
   "outputs": [],
   "source": [
    "balanced_df = lib.resample_majority(df, 'Score', 5)"
   ]
  },
  {
   "cell_type": "code",
   "execution_count": 5,
   "metadata": {},
   "outputs": [],
   "source": [
    "num_words = 20000\n",
    "epochs = 10  \n",
    "batch_size = 512  \n",
    "sequence_len = 200  # Maximum number of words in a sequence\n",
    "glove_dimensions = 200  # Number of dimensions of the GloVe word embeddings"
   ]
  },
  {
   "cell_type": "code",
   "execution_count": 7,
   "metadata": {},
   "outputs": [],
   "source": [
    "balanced_df.Text = balanced_df.Text.apply(lib.remove_stopwords, join=True)"
   ]
  },
  {
   "cell_type": "code",
   "execution_count": 9,
   "metadata": {},
   "outputs": [
    {
     "data": {
      "text/plain": [
       "0    [I, bought, couple, packs, decaf, expiration, ...\n",
       "1    [I, love, cat, food!, I, currently, four, cats...\n",
       "2    [I've, tried, multiple, foods,, different, tim...\n",
       "3    [My, dog, likes, time., The, dogs, I, tried, n...\n",
       "4    [I, not, impressed, garlic, powder., The, garl...\n",
       "Name: Text, dtype: object"
      ]
     },
     "execution_count": 9,
     "metadata": {},
     "output_type": "execute_result"
    }
   ],
   "source": [
    "balanced_df.Text.head()"
   ]
  },
  {
   "cell_type": "code",
   "execution_count": 10,
   "metadata": {},
   "outputs": [],
   "source": [
    "X_train, X_test, y_train, y_test = train_test_split(balanced_df.Text, balanced_df.Score, test_size=0.2, random_state=42)"
   ]
  },
  {
   "cell_type": "code",
   "execution_count": 11,
   "metadata": {},
   "outputs": [],
   "source": [
    "tk = Tokenizer(num_words=num_words,\n",
    "filters='!\"#$%&()*+,-./:;<=>?@[\\]^_`{\"}~\\t\\n',lower=True, split=\" \")\n",
    "tk.fit_on_texts(X_train)\n",
    "X_train_seq = tk.texts_to_sequences(X_train)\n",
    "X_test_seq = tk.texts_to_sequences(X_test)"
   ]
  },
  {
   "cell_type": "code",
   "execution_count": 12,
   "metadata": {},
   "outputs": [
    {
     "data": {
      "text/plain": [
       "[71, 46, 357, 2202, 14069, 374, 359, 69, 3817, 720, 2856, 27]"
      ]
     },
     "execution_count": 12,
     "metadata": {},
     "output_type": "execute_result"
    }
   ],
   "source": [
    "X_train_seq[0]"
   ]
  },
  {
   "cell_type": "code",
   "execution_count": 44,
   "metadata": {},
   "outputs": [],
   "source": [
    "pickle.dump(tk, open( \"tk_20k_vocab_200_words.pkl\", \"wb\" ))"
   ]
  },
  {
   "cell_type": "code",
   "execution_count": 13,
   "metadata": {},
   "outputs": [
    {
     "data": {
      "text/plain": [
       "[28,\n",
       " 362,\n",
       " 21,\n",
       " 1276,\n",
       " 1,\n",
       " 56,\n",
       " 6315,\n",
       " 17433,\n",
       " 5,\n",
       " 305,\n",
       " 7576,\n",
       " 4338,\n",
       " 98,\n",
       " 824,\n",
       " 1276,\n",
       " 389,\n",
       " 336,\n",
       " 2,\n",
       " 26,\n",
       " 203,\n",
       " 4296,\n",
       " 43,\n",
       " 63,\n",
       " 189,\n",
       " 10242,\n",
       " 4271,\n",
       " 305,\n",
       " 107,\n",
       " 211,\n",
       " 12067,\n",
       " 752,\n",
       " 305,\n",
       " 141,\n",
       " 203,\n",
       " 189,\n",
       " 4561,\n",
       " 28,\n",
       " 362,\n",
       " 249,\n",
       " 2175]"
      ]
     },
     "execution_count": 13,
     "metadata": {},
     "output_type": "execute_result"
    }
   ],
   "source": [
    "X_train_seq[7]"
   ]
  },
  {
   "cell_type": "code",
   "execution_count": 14,
   "metadata": {},
   "outputs": [],
   "source": [
    "X_train_seq_pad = pad_sequences(X_train_seq, maxlen=sequence_len)\n",
    "X_test_seq_pad = pad_sequences(X_test_seq, maxlen=sequence_len)"
   ]
  },
  {
   "cell_type": "code",
   "execution_count": 15,
   "metadata": {},
   "outputs": [],
   "source": [
    "le = LabelEncoder()\n",
    "y_train_le = le.fit_transform(y_train)\n",
    "y_test_le = le.transform(y_test)\n",
    "y_train_oh = to_categorical(y_train_le)\n",
    "y_test_oh = to_categorical(y_test_le)"
   ]
  },
  {
   "cell_type": "code",
   "execution_count": 16,
   "metadata": {},
   "outputs": [],
   "source": [
    "X_train_emb, X_valid_emb, y_train_emb, y_valid_emb = train_test_split(X_train_seq_pad, y_train_oh, test_size=0.1, random_state=37)"
   ]
  },
  {
   "cell_type": "code",
   "execution_count": 17,
   "metadata": {},
   "outputs": [
    {
     "data": {
      "text/plain": [
       "array([[0., 0., 0., 0., 1.],\n",
       "       [0., 0., 0., 0., 1.],\n",
       "       [0., 0., 0., 1., 0.],\n",
       "       ...,\n",
       "       [0., 0., 0., 1., 0.],\n",
       "       [0., 0., 0., 1., 0.],\n",
       "       [0., 1., 0., 0., 0.]], dtype=float32)"
      ]
     },
     "execution_count": 17,
     "metadata": {},
     "output_type": "execute_result"
    }
   ],
   "source": [
    "y_train_emb"
   ]
  },
  {
   "cell_type": "code",
   "execution_count": 18,
   "metadata": {},
   "outputs": [
    {
     "data": {
      "text/plain": [
       "array([    0,     0,     0,     0,     0,     0,     0,     0,     0,\n",
       "           0,     0,     0,     0,     0,     0,     0,     0,     0,\n",
       "           0,     0,     0,     0,     0,     0,     0,     0,     0,\n",
       "           0,     0,     0,     0,     0,     0,     0,     0,     0,\n",
       "           0,     0,     0,     0,     0,     0,     0,     0,     0,\n",
       "           0,     0,     0,     0,     0,     0,     0,     0,     0,\n",
       "           0,     0,     0,     0,     0,     0,     0,     0,     0,\n",
       "           0,     0,     0,     0,     0,     0,     0,     0,     0,\n",
       "           0,     0,     0,     0,     0,     0,     0,     0,     0,\n",
       "           0,     0,     0,     0,     0,     0,     0,     0,     0,\n",
       "           0,     0,     0,     0,     0,     0,     0,     0,     1,\n",
       "         208,  1466, 11639,  9550,  9481,    28,    56,  1141,  6390,\n",
       "          10,  2785,  1862,  2745,  1574,  1079,   430,   275,    56,\n",
       "         677,  6815,  1959, 17550,   266,    38,  4771,    23,  8953,\n",
       "         267,  2269,    24,     8,     2,    38,   486,     3,    36,\n",
       "          56,   874,    28,   197,   680,  2745,  1574,  1065,  9943,\n",
       "         267,   445,   222,  3816,  3536,  9438,    28,  1618,  3029,\n",
       "         121,  3411,  2104,     3,     1,  1007,   542,  1308,   936,\n",
       "          23,  7265,  3867,  1959,   487,   434, 11666,   650,  3834,\n",
       "         817,    21,    24,     1,    77,   761,   126, 11475,   215,\n",
       "          23,     4,  2478,     3,   460,  2458,    85,     1,   365,\n",
       "          97,   123,    10,  3435,   324,   176,   679,   103,  1972,\n",
       "         253,  1704], dtype=int32)"
      ]
     },
     "execution_count": 18,
     "metadata": {},
     "output_type": "execute_result"
    }
   ],
   "source": [
    "X_train_emb[0]"
   ]
  },
  {
   "cell_type": "markdown",
   "metadata": {},
   "source": [
    "## Training Proprietary Embeddings"
   ]
  },
  {
   "cell_type": "code",
   "execution_count": 19,
   "metadata": {},
   "outputs": [
    {
     "name": "stdout",
     "output_type": "stream",
     "text": [
      "WARNING:tensorflow:From //anaconda3/lib/python3.7/site-packages/keras/backend/tensorflow_backend.py:422: The name tf.global_variables is deprecated. Please use tf.compat.v1.global_variables instead.\n",
      "\n",
      "Train on 184798 samples, validate on 20534 samples\n",
      "Epoch 1/10\n",
      "184798/184798 [==============================] - 119s 646us/step - loss: 1.2422 - categorical_accuracy: 0.4770 - f1_m: 0.3066 - precision_m: 0.5910 - recall_m: 0.2207 - val_loss: 1.0173 - val_categorical_accuracy: 0.5870 - val_f1_m: 0.5092 - val_precision_m: 0.7309 - val_recall_m: 0.3909\n",
      "Epoch 2/10\n",
      "184798/184798 [==============================] - 119s 642us/step - loss: 0.9577 - categorical_accuracy: 0.6134 - f1_m: 0.5624 - precision_m: 0.7231 - recall_m: 0.4607 - val_loss: 0.9182 - val_categorical_accuracy: 0.6308 - val_f1_m: 0.5876 - val_precision_m: 0.7323 - val_recall_m: 0.4910\n",
      "Epoch 3/10\n",
      "184798/184798 [==============================] - 107s 576us/step - loss: 0.7914 - categorical_accuracy: 0.6916 - f1_m: 0.6662 - precision_m: 0.7722 - recall_m: 0.5861 - val_loss: 0.8831 - val_categorical_accuracy: 0.6566 - val_f1_m: 0.6384 - val_precision_m: 0.7394 - val_recall_m: 0.5618\n",
      "Epoch 4/10\n",
      "184798/184798 [==============================] - 111s 602us/step - loss: 0.6590 - categorical_accuracy: 0.7503 - f1_m: 0.7382 - precision_m: 0.8096 - recall_m: 0.6785 - val_loss: 0.8795 - val_categorical_accuracy: 0.6669 - val_f1_m: 0.6568 - val_precision_m: 0.7312 - val_recall_m: 0.5962\n",
      "Epoch 5/10\n",
      "184798/184798 [==============================] - 121s 657us/step - loss: 0.5509 - categorical_accuracy: 0.7954 - f1_m: 0.7900 - precision_m: 0.8409 - recall_m: 0.7450 - val_loss: 0.9116 - val_categorical_accuracy: 0.6704 - val_f1_m: 0.6673 - val_precision_m: 0.7194 - val_recall_m: 0.6223\n",
      "Epoch 6/10\n",
      "184798/184798 [==============================] - 110s 597us/step - loss: 0.4691 - categorical_accuracy: 0.8279 - f1_m: 0.8251 - precision_m: 0.8632 - recall_m: 0.7903 - val_loss: 0.9466 - val_categorical_accuracy: 0.6686 - val_f1_m: 0.6707 - val_precision_m: 0.7135 - val_recall_m: 0.6327\n",
      "Epoch 7/10\n",
      "184798/184798 [==============================] - 117s 635us/step - loss: 0.3981 - categorical_accuracy: 0.8554 - f1_m: 0.8538 - precision_m: 0.8828 - recall_m: 0.8267 - val_loss: 0.9972 - val_categorical_accuracy: 0.6711 - val_f1_m: 0.6740 - val_precision_m: 0.7106 - val_recall_m: 0.6410\n",
      "Epoch 8/10\n",
      "184798/184798 [==============================] - 131s 711us/step - loss: 0.3450 - categorical_accuracy: 0.8754 - f1_m: 0.8756 - precision_m: 0.8986 - recall_m: 0.8539 - val_loss: 1.0521 - val_categorical_accuracy: 0.6685 - val_f1_m: 0.6714 - val_precision_m: 0.7029 - val_recall_m: 0.6427\n",
      "Epoch 9/10\n",
      "184798/184798 [==============================] - 117s 633us/step - loss: 0.3029 - categorical_accuracy: 0.8918 - f1_m: 0.8918 - precision_m: 0.9107 - recall_m: 0.8737 - val_loss: 1.1228 - val_categorical_accuracy: 0.6645 - val_f1_m: 0.6679 - val_precision_m: 0.6947 - val_recall_m: 0.6431\n",
      "Epoch 10/10\n",
      "184798/184798 [==============================] - 110s 597us/step - loss: 0.2720 - categorical_accuracy: 0.9031 - f1_m: 0.9039 - precision_m: 0.9199 - recall_m: 0.8885 - val_loss: 1.1732 - val_categorical_accuracy: 0.6680 - val_f1_m: 0.6713 - val_precision_m: 0.6947 - val_recall_m: 0.6494\n"
     ]
    }
   ],
   "source": [
    "emb_model = models.Sequential()\n",
    "emb_model.add(layers.Embedding(num_words, 200, input_length=sequence_len))\n",
    "emb_model.add(layers.Conv1D(32,\n",
    "                            5,\n",
    "                            activation='relu',\n",
    "                            input_shape=(200,1)))\n",
    "emb_model.add(layers.GlobalMaxPooling1D())\n",
    "emb_model.add(layers.Dropout(0.2))\n",
    "emb_model.add(layers.Dense(64,activation='relu',))\n",
    "emb_model.add(layers.Dropout(0.2))\n",
    "emb_model.add(layers.Dense(5, activation='softmax'))\n",
    "emb_model.compile(optimizer='rmsprop',\n",
    "                  loss='categorical_crossentropy',\n",
    "                  metrics=[metrics.categorical_accuracy, lib.f1_m, lib.precision_m, lib.recall_m])\n",
    "emb_history = emb_model.fit(X_train_emb,\n",
    "                            y_train_emb,\n",
    "                            epochs=epochs,\n",
    "                            batch_size=batch_size,\n",
    "                            validation_data=(X_valid_emb, y_valid_emb))"
   ]
  },
  {
   "cell_type": "code",
   "execution_count": 20,
   "metadata": {},
   "outputs": [
    {
     "data": {
      "image/png": "[encoded data removed]",
      "text/plain": [
       "<Figure size 432x288 with 1 Axes>"
      ]
     },
     "metadata": {
      "needs_background": "light"
     },
     "output_type": "display_data"
    },
    {
     "data": {
      "image/png": "[encoded data removed]",
      "text/plain": [
       "<Figure size 432x288 with 1 Axes>"
      ]
     },
     "metadata": {
      "needs_background": "light"
     },
     "output_type": "display_data"
    },
    {
     "data": {
      "text/plain": [
       "(None, None)"
      ]
     },
     "execution_count": 20,
     "metadata": {},
     "output_type": "execute_result"
    }
   ],
   "source": [
    "viz.plot_accuracy(emb_history), viz.plot_loss(emb_history)"
   ]
  },
  {
   "cell_type": "code",
   "execution_count": 21,
   "metadata": {},
   "outputs": [
    {
     "name": "stdout",
     "output_type": "stream",
     "text": [
      "51333/51333 [==============================] - 9s 175us/step\n",
      "The loss score is: 1.1864566502781062\n",
      "The categorical_accuracy score is: 0.6670757532119751\n",
      "The f1_m score is: 0.6684471368789673\n",
      "The precision_m score is: 0.6915733218193054\n",
      "The recall_m score is: 0.647527277469635\n"
     ]
    }
   ],
   "source": [
    "emb_scores = lib.verbose_evaluate(emb_model, X_test_seq_pad, y_test_oh)"
   ]
  },
  {
   "cell_type": "code",
   "execution_count": 22,
   "metadata": {},
   "outputs": [],
   "source": [
    "emb_model.save('conv_embedding_model_lrg.h5')"
   ]
  },
  {
   "cell_type": "code",
   "execution_count": 23,
   "metadata": {},
   "outputs": [
    {
     "name": "stdout",
     "output_type": "stream",
     "text": [
      "Train on 184798 samples, validate on 20534 samples\n",
      "Epoch 1/10\n",
      "184798/184798 [==============================] - 97s 526us/step - loss: 1.3776 - categorical_accuracy: 0.4071 - f1_m: 0.1671 - precision_m: 0.4976 - recall_m: 0.1049 - val_loss: 1.1699 - val_categorical_accuracy: 0.5052 - val_f1_m: 0.2935 - val_precision_m: 0.7302 - val_recall_m: 0.1839\n",
      "Epoch 2/10\n",
      "184798/184798 [==============================] - 101s 548us/step - loss: 1.1651 - categorical_accuracy: 0.4994 - f1_m: 0.3797 - precision_m: 0.6457 - recall_m: 0.2693 - val_loss: 1.1016 - val_categorical_accuracy: 0.5445 - val_f1_m: 0.3996 - val_precision_m: 0.7229 - val_recall_m: 0.2763\n",
      "Epoch 3/10\n",
      "184798/184798 [==============================] - 99s 534us/step - loss: 1.0687 - categorical_accuracy: 0.5450 - f1_m: 0.4643 - precision_m: 0.6781 - recall_m: 0.3533 - val_loss: 1.0736 - val_categorical_accuracy: 0.5561 - val_f1_m: 0.4555 - val_precision_m: 0.7255 - val_recall_m: 0.3322\n",
      "Epoch 4/10\n",
      "184798/184798 [==============================] - 91s 494us/step - loss: 1.0028 - categorical_accuracy: 0.5761 - f1_m: 0.5163 - precision_m: 0.6983 - recall_m: 0.4098 - val_loss: 1.0608 - val_categorical_accuracy: 0.5667 - val_f1_m: 0.4828 - val_precision_m: 0.7234 - val_recall_m: 0.3626\n",
      "Epoch 5/10\n",
      "184798/184798 [==============================] - 87s 473us/step - loss: 0.9524 - categorical_accuracy: 0.5967 - f1_m: 0.5511 - precision_m: 0.7145 - recall_m: 0.4488 - val_loss: 1.0597 - val_categorical_accuracy: 0.5705 - val_f1_m: 0.4990 - val_precision_m: 0.7232 - val_recall_m: 0.3811\n",
      "Epoch 6/10\n",
      "184798/184798 [==============================] - 87s 469us/step - loss: 0.9101 - categorical_accuracy: 0.6151 - f1_m: 0.5783 - precision_m: 0.7290 - recall_m: 0.4795 - val_loss: 1.0723 - val_categorical_accuracy: 0.5688 - val_f1_m: 0.5074 - val_precision_m: 0.7115 - val_recall_m: 0.3944\n",
      "Epoch 7/10\n",
      "184798/184798 [==============================] - 86s 468us/step - loss: 0.8811 - categorical_accuracy: 0.6300 - f1_m: 0.5979 - precision_m: 0.7401 - recall_m: 0.5018 - val_loss: 1.0645 - val_categorical_accuracy: 0.5748 - val_f1_m: 0.5213 - val_precision_m: 0.7204 - val_recall_m: 0.4087\n",
      "Epoch 8/10\n",
      "184798/184798 [==============================] - 87s 470us/step - loss: 0.8523 - categorical_accuracy: 0.6421 - f1_m: 0.6156 - precision_m: 0.7502 - recall_m: 0.5221 - val_loss: 1.0807 - val_categorical_accuracy: 0.5756 - val_f1_m: 0.5260 - val_precision_m: 0.7143 - val_recall_m: 0.4167\n",
      "Epoch 9/10\n",
      "184798/184798 [==============================] - 87s 472us/step - loss: 0.8284 - categorical_accuracy: 0.6510 - f1_m: 0.6294 - precision_m: 0.7583 - recall_m: 0.5381 - val_loss: 1.0918 - val_categorical_accuracy: 0.5735 - val_f1_m: 0.5256 - val_precision_m: 0.7118 - val_recall_m: 0.4170\n",
      "Epoch 10/10\n",
      "184798/184798 [==============================] - 86s 467us/step - loss: 0.8058 - categorical_accuracy: 0.6626 - f1_m: 0.6425 - precision_m: 0.7663 - recall_m: 0.5534 - val_loss: 1.0998 - val_categorical_accuracy: 0.5748 - val_f1_m: 0.5333 - val_precision_m: 0.7098 - val_recall_m: 0.4274\n"
     ]
    }
   ],
   "source": [
    "emb_adam_model = models.Sequential()\n",
    "emb_adam_model.add(layers.Embedding(num_words, 200, input_length=sequence_len))\n",
    "emb_adam_model.add(layers.Conv1D(16,\n",
    "                                 5,\n",
    "                                 activation='relu',\n",
    "                                 input_shape=(200,1)))\n",
    "emb_adam_model.add(layers.GlobalMaxPooling1D())\n",
    "emb_adam_model.add(layers.Dropout(0.5))\n",
    "emb_adam_model.add(layers.Dense(32,activation='relu',))\n",
    "emb_adam_model.add(layers.Dropout(0.2))\n",
    "emb_adam_model.add(layers.Dense(5, activation='softmax'))\n",
    "emb_adam_model.compile(optimizer='adam',\n",
    "                      loss='categorical_crossentropy',\n",
    "                      metrics=[metrics.categorical_accuracy, lib.f1_m, lib.precision_m, lib.recall_m])\n",
    "emb_adam_history = emb_adam_model.fit(X_train_emb,\n",
    "                            y_train_emb,\n",
    "                            epochs=epochs,\n",
    "                            batch_size=batch_size,\n",
    "                            validation_data=(X_valid_emb, y_valid_emb))"
   ]
  },
  {
   "cell_type": "code",
   "execution_count": 24,
   "metadata": {},
   "outputs": [
    {
     "data": {
      "image/png": "[encoded data removed]",
      "text/plain": [
       "<Figure size 432x288 with 1 Axes>"
      ]
     },
     "metadata": {
      "needs_background": "light"
     },
     "output_type": "display_data"
    },
    {
     "data": {
      "image/png": "[encoded data removed]",
      "text/plain": [
       "<Figure size 432x288 with 1 Axes>"
      ]
     },
     "metadata": {
      "needs_background": "light"
     },
     "output_type": "display_data"
    },
    {
     "data": {
      "text/plain": [
       "(None, None)"
      ]
     },
     "execution_count": 24,
     "metadata": {},
     "output_type": "execute_result"
    }
   ],
   "source": [
    "viz.plot_accuracy(emb_adam_history), viz.plot_loss(emb_adam_history)"
   ]
  },
  {
   "cell_type": "code",
   "execution_count": 25,
   "metadata": {},
   "outputs": [
    {
     "name": "stdout",
     "output_type": "stream",
     "text": [
      "51333/51333 [==============================] - 7s 131us/step\n",
      "The loss score is: 1.096676035371201\n",
      "The categorical_accuracy score is: 0.5767829418182373\n",
      "The f1_m score is: 0.527244508266449\n",
      "The precision_m score is: 0.7040293216705322\n",
      "The recall_m score is: 0.42490652203559875\n"
     ]
    }
   ],
   "source": [
    "emb_adam_scores = lib.verbose_evaluate(emb_adam_model, X_test_seq_pad, y_test_oh)"
   ]
  },
  {
   "cell_type": "markdown",
   "metadata": {},
   "source": [
    "### Comparison of the two models"
   ]
  },
  {
   "cell_type": "code",
   "execution_count": 26,
   "metadata": {},
   "outputs": [],
   "source": [
    "emb_scores = list(emb_scores.values())\n",
    "emb_adam_scores = list(emb_adam_scores.values())\n",
    "loss = [emb_scores[0], emb_adam_scores[0]]\n",
    "categorical_accuracy = [emb_scores[1], emb_adam_scores[1]]\n",
    "f1 = [emb_scores[2], emb_adam_scores[2]]\n",
    "precision = [emb_scores[3], emb_adam_scores[3]]\n",
    "recall = [emb_scores[4], emb_adam_scores[4]]"
   ]
  },
  {
   "cell_type": "code",
   "execution_count": 36,
   "metadata": {},
   "outputs": [
    {
     "data": {
      "image/png": "[encoded data removed]",
      "text/plain": [
       "<Figure size 432x288 with 1 Axes>"
      ]
     },
     "metadata": {
      "needs_background": "light"
     },
     "output_type": "display_data"
    }
   ],
   "source": [
    "barWidth = 0.1\n",
    "\n",
    "# Set position of bar on X axis\n",
    "r1 = np.arange(len(loss))\n",
    "r2 = [x + barWidth for x in r1]\n",
    "r3 = [x + barWidth for x in r2]\n",
    "r4 = [x + barWidth for x in r3]\n",
    "r5 = [x + barWidth for x in r4]\n",
    " \n",
    "# Make the plot\n",
    "plt.barh(r1, loss, height=barWidth, edgecolor='white', label='Loss')\n",
    "plt.barh(r2, categorical_accuracy, height=barWidth, edgecolor='white', label='Categorical Accuracy')\n",
    "plt.barh(r3, f1, height=barWidth, edgecolor='white', label='F1 Score')\n",
    "plt.barh(r4, precision, height=barWidth, edgecolor='white', label='Precision')\n",
    "plt.barh(r5, recall, height=barWidth, edgecolor='white', label='Recall')\n",
    " \n",
    "# Add xticks on the middle of the group bars\n",
    "plt.xlabel('Score', fontweight='bold')\n",
    "plt.title('Comparison of Competing Model Architectures')\n",
    "plt.yticks([r + barWidth for r in range(len(loss))], ['Embedding Model With RMS', 'Embedding Model With Adam',])\n",
    " \n",
    "# Create legend & Show graphic\n",
    "plt.legend()\n",
    "plt.show()"
   ]
  },
  {
   "cell_type": "markdown",
   "metadata": {},
   "source": [
    "## Previous Modelling Approach"
   ]
  },
  {
   "cell_type": "code",
   "execution_count": 5,
   "metadata": {},
   "outputs": [
    {
     "name": "stdout",
     "output_type": "stream",
     "text": [
      "CPU times: user 1min 51s, sys: 1.01 s, total: 1min 52s\n",
      "Wall time: 1min 59s\n"
     ]
    }
   ],
   "source": [
    "%%time\n",
    "stemmer = PorterStemmer()\n",
    "corpus = [casual_tokenize(doc.lower()) for doc in df.Text]\n",
    "corpus_sw = [lib.remove_stopwords(doc) for doc in corpus]\n",
    "stemmed_corpus = []\n",
    "for doc in corpus_sw:\n",
    "    stemmed_corpus.append([stemmer.stem(word) for word in doc])"
   ]
  },
  {
   "cell_type": "code",
   "execution_count": 6,
   "metadata": {},
   "outputs": [],
   "source": [
    "def dummy_func(doc):\n",
    "    return doc\n",
    "\n",
    "vectorizer = TfidfVectorizer(ngram_range=(1, 1), \n",
    "                             tokenizer=dummy_func, \n",
    "                             preprocessor=dummy_func, \n",
    "                             max_features=8000)\n",
    "wv = vectorizer.fit_transform(stemmed_corpus)    "
   ]
  },
  {
   "cell_type": "code",
   "execution_count": 7,
   "metadata": {},
   "outputs": [
    {
     "data": {
      "text/plain": [
       "True"
      ]
     },
     "execution_count": 7,
     "metadata": {},
     "output_type": "execute_result"
    }
   ],
   "source": [
    "wv.shape[0] == len(df)"
   ]
  },
  {
   "cell_type": "code",
   "execution_count": 8,
   "metadata": {},
   "outputs": [],
   "source": [
    "dense_wv = wv.toarray()\n",
    "feature_names = vectorizer.vocabulary_\n",
    "sorted_features = {k: v for k, v in sorted(feature_names.items(), key=lambda item: item[1])}\n",
    "wv_df = pd.DataFrame(dense_wv, columns = sorted_features.keys())\n",
    "wv_df['Target'] = df.Score"
   ]
  },
  {
   "cell_type": "code",
   "execution_count": 9,
   "metadata": {},
   "outputs": [],
   "source": [
    "def to_one_hot(labels, dimension=5):\n",
    "    results = np.zeros((len(labels), dimension))\n",
    "    for i, label in enumerate(labels):\n",
    "        results[i, label-1] = 1\n",
    "    return results"
   ]
  },
  {
   "cell_type": "code",
   "execution_count": 10,
   "metadata": {},
   "outputs": [],
   "source": [
    "X = wv_df.drop(columns='Target', axis=1)\n",
    "y = wv_df.Target\n",
    "\n",
    "X_train, X_test, y_train, y_test = train_test_split(X, y, random_state = 42)\n",
    "\n",
    "one_hot_train_labels = to_one_hot(y_train)\n",
    "one_hot_test_labels = to_one_hot(y_test)"
   ]
  },
  {
   "cell_type": "code",
   "execution_count": 11,
   "metadata": {},
   "outputs": [
    {
     "data": {
      "text/plain": [
       "array([0., 0., 1., 0., 0.])"
      ]
     },
     "execution_count": 11,
     "metadata": {},
     "output_type": "execute_result"
    }
   ],
   "source": [
    "one_hot_train_labels[0]"
   ]
  },
  {
   "cell_type": "code",
   "execution_count": 12,
   "metadata": {},
   "outputs": [],
   "source": [
    "x_val = X_train[:6800]\n",
    "partial_x_train = X_train[6800:]\n",
    "y_val = one_hot_train_labels[:6800]\n",
    "partial_y_train = one_hot_train_labels[6800:]"
   ]
  },
  {
   "cell_type": "code",
   "execution_count": 13,
   "metadata": {},
   "outputs": [
    {
     "name": "stdout",
     "output_type": "stream",
     "text": [
      "(61294, 8000) (61294, 5)\n",
      "(22699, 8000) (22699, 5)\n"
     ]
    }
   ],
   "source": [
    "print(partial_x_train.shape,partial_y_train.shape)\n",
    "print(X_test.shape,one_hot_test_labels.shape)"
   ]
  },
  {
   "cell_type": "code",
   "execution_count": 14,
   "metadata": {},
   "outputs": [
    {
     "data": {
      "text/plain": [
       "8000"
      ]
     },
     "execution_count": 14,
     "metadata": {},
     "output_type": "execute_result"
    }
   ],
   "source": [
    "partial_x_train.shape[1]"
   ]
  },
  {
   "cell_type": "code",
   "execution_count": 15,
   "metadata": {},
   "outputs": [],
   "source": [
    "simple_nn = models.Sequential()\n",
    "simple_nn.add(layers.Dense(32, activation='relu', input_shape = (partial_x_train.shape[1], )))\n",
    "simple_nn.add(layers.Dropout(0.4))\n",
    "simple_nn.add(layers.Dense(32, activation='relu'))\n",
    "simple_nn.add(layers.Dropout(0.25))\n",
    "simple_nn.add(layers.Dense(5, activation='softmax'))"
   ]
  },
  {
   "cell_type": "code",
   "execution_count": 16,
   "metadata": {},
   "outputs": [],
   "source": [
    "simple_nn.compile(optimizer='adam',\n",
    "                  loss='categorical_crossentropy',\n",
    "                  metrics = [metrics.categorical_accuracy])"
   ]
  },
  {
   "cell_type": "code",
   "execution_count": 17,
   "metadata": {},
   "outputs": [
    {
     "name": "stdout",
     "output_type": "stream",
     "text": [
      "WARNING:tensorflow:From //anaconda3/lib/python3.7/site-packages/keras/backend/tensorflow_backend.py:422: The name tf.global_variables is deprecated. Please use tf.compat.v1.global_variables instead.\n",
      "\n",
      "Train on 61294 samples, validate on 6800 samples\n",
      "Epoch 1/10\n",
      "61294/61294 [==============================] - 12s 198us/step - loss: 1.4929 - categorical_accuracy: 0.3669 - val_loss: 1.3014 - val_categorical_accuracy: 0.4459\n",
      "Epoch 2/10\n",
      "61294/61294 [==============================] - 8s 128us/step - loss: 1.2099 - categorical_accuracy: 0.4962 - val_loss: 1.1253 - val_categorical_accuracy: 0.5316\n",
      "Epoch 3/10\n",
      "61294/61294 [==============================] - 8s 130us/step - loss: 1.0921 - categorical_accuracy: 0.5495 - val_loss: 1.0889 - val_categorical_accuracy: 0.5474\n",
      "Epoch 4/10\n",
      "61294/61294 [==============================] - 9s 141us/step - loss: 1.0285 - categorical_accuracy: 0.5799 - val_loss: 1.0797 - val_categorical_accuracy: 0.5537\n",
      "Epoch 5/10\n",
      "61294/61294 [==============================] - 9s 154us/step - loss: 0.9886 - categorical_accuracy: 0.6005 - val_loss: 1.0795 - val_categorical_accuracy: 0.5560\n",
      "Epoch 6/10\n",
      "61294/61294 [==============================] - 10s 164us/step - loss: 0.9489 - categorical_accuracy: 0.6208 - val_loss: 1.0852 - val_categorical_accuracy: 0.5569\n",
      "Epoch 7/10\n",
      "61294/61294 [==============================] - 8s 139us/step - loss: 0.9181 - categorical_accuracy: 0.6351 - val_loss: 1.0934 - val_categorical_accuracy: 0.5599\n",
      "Epoch 8/10\n",
      "61294/61294 [==============================] - 8s 134us/step - loss: 0.8850 - categorical_accuracy: 0.6504 - val_loss: 1.1010 - val_categorical_accuracy: 0.5597\n",
      "Epoch 9/10\n",
      "61294/61294 [==============================] - 8s 124us/step - loss: 0.8567 - categorical_accuracy: 0.6638 - val_loss: 1.1157 - val_categorical_accuracy: 0.5618\n",
      "Epoch 10/10\n",
      "61294/61294 [==============================] - 7s 121us/step - loss: 0.8297 - categorical_accuracy: 0.6774 - val_loss: 1.1239 - val_categorical_accuracy: 0.5597\n"
     ]
    }
   ],
   "source": [
    "nn_history = simple_nn.fit(partial_x_train,\n",
    "                        partial_y_train,\n",
    "                        epochs=10,\n",
    "                        batch_size=512,\n",
    "                        validation_data=(x_val, y_val))"
   ]
  },
  {
   "cell_type": "code",
   "execution_count": null,
   "metadata": {},
   "outputs": [],
   "source": []
  },
  {
   "cell_type": "code",
   "execution_count": null,
   "metadata": {},
   "outputs": [],
   "source": []
  }
 ],
 "metadata": {
  "kernelspec": {
   "display_name": "Python 3",
   "language": "python",
   "name": "python3"
  },
  "language_info": {
   "codemirror_mode": {
    "name": "ipython",
    "version": 3
   },
   "file_extension": ".py",
   "mimetype": "text/x-python",
   "name": "python",
   "nbconvert_exporter": "python",
   "pygments_lexer": "ipython3",
   "version": "3.7.5"
  }
 },
 "nbformat": 4,
 "nbformat_minor": 4
}
